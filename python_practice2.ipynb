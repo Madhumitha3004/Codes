{
  "cells": [
    {
      "cell_type": "code",
      "execution_count": null,
      "id": "c009fbe7",
      "metadata": {
        "id": "c009fbe7",
        "outputId": "1c81e927-3fac-48bc-d609-e2e6202719a8"
      },
      "outputs": [
        {
          "data": {
            "text/html": [
              "<div>\n",
              "<style scoped>\n",
              "    .dataframe tbody tr th:only-of-type {\n",
              "        vertical-align: middle;\n",
              "    }\n",
              "\n",
              "    .dataframe tbody tr th {\n",
              "        vertical-align: top;\n",
              "    }\n",
              "\n",
              "    .dataframe thead th {\n",
              "        text-align: right;\n",
              "    }\n",
              "</style>\n",
              "<table border=\"1\" class=\"dataframe\">\n",
              "  <thead>\n",
              "    <tr style=\"text-align: right;\">\n",
              "      <th></th>\n",
              "      <th>Carat Weight</th>\n",
              "      <th>Cut</th>\n",
              "      <th>Color</th>\n",
              "      <th>Clarity</th>\n",
              "      <th>Polish</th>\n",
              "      <th>Symmetry</th>\n",
              "      <th>Report</th>\n",
              "      <th>Price</th>\n",
              "    </tr>\n",
              "  </thead>\n",
              "  <tbody>\n",
              "    <tr>\n",
              "      <th>0</th>\n",
              "      <td>1.10</td>\n",
              "      <td>Ideal</td>\n",
              "      <td>H</td>\n",
              "      <td>SI1</td>\n",
              "      <td>VG</td>\n",
              "      <td>EX</td>\n",
              "      <td>GIA</td>\n",
              "      <td>5169</td>\n",
              "    </tr>\n",
              "    <tr>\n",
              "      <th>1</th>\n",
              "      <td>0.83</td>\n",
              "      <td>Ideal</td>\n",
              "      <td>H</td>\n",
              "      <td>VS1</td>\n",
              "      <td>ID</td>\n",
              "      <td>ID</td>\n",
              "      <td>AGSL</td>\n",
              "      <td>3470</td>\n",
              "    </tr>\n",
              "    <tr>\n",
              "      <th>2</th>\n",
              "      <td>0.85</td>\n",
              "      <td>Ideal</td>\n",
              "      <td>H</td>\n",
              "      <td>SI1</td>\n",
              "      <td>EX</td>\n",
              "      <td>EX</td>\n",
              "      <td>GIA</td>\n",
              "      <td>3183</td>\n",
              "    </tr>\n",
              "    <tr>\n",
              "      <th>3</th>\n",
              "      <td>0.91</td>\n",
              "      <td>Ideal</td>\n",
              "      <td>E</td>\n",
              "      <td>SI1</td>\n",
              "      <td>VG</td>\n",
              "      <td>VG</td>\n",
              "      <td>GIA</td>\n",
              "      <td>4370</td>\n",
              "    </tr>\n",
              "    <tr>\n",
              "      <th>4</th>\n",
              "      <td>0.83</td>\n",
              "      <td>Ideal</td>\n",
              "      <td>G</td>\n",
              "      <td>SI1</td>\n",
              "      <td>EX</td>\n",
              "      <td>EX</td>\n",
              "      <td>GIA</td>\n",
              "      <td>3171</td>\n",
              "    </tr>\n",
              "  </tbody>\n",
              "</table>\n",
              "</div>"
            ],
            "text/plain": [
              "   Carat Weight    Cut Color Clarity Polish Symmetry Report  Price\n",
              "0          1.10  Ideal     H     SI1     VG       EX    GIA   5169\n",
              "1          0.83  Ideal     H     VS1     ID       ID   AGSL   3470\n",
              "2          0.85  Ideal     H     SI1     EX       EX    GIA   3183\n",
              "3          0.91  Ideal     E     SI1     VG       VG    GIA   4370\n",
              "4          0.83  Ideal     G     SI1     EX       EX    GIA   3171"
            ]
          },
          "execution_count": 2,
          "metadata": {},
          "output_type": "execute_result"
        }
      ],
      "source": [
        "import numpy as np\n",
        "import pandas as pd\n",
        "import matplotlib.pyplot as plt\n",
        "\n",
        "\n",
        "from sklearn.preprocessing import LabelEncoder\n",
        "\n",
        "data= pd.read_csv('https://raw.githubusercontent.com/pycaret/pycaret/master/datasets/diamond.csv')\n",
        "data.head()"
      ]
    },
    {
      "cell_type": "code",
      "execution_count": null,
      "id": "dfe7113f",
      "metadata": {
        "id": "dfe7113f",
        "outputId": "07160162-9c97-431a-e03e-27c072d12803"
      },
      "outputs": [
        {
          "data": {
            "text/plain": [
              "Carat Weight    float64\n",
              "Cut              object\n",
              "Color            object\n",
              "Clarity          object\n",
              "Polish           object\n",
              "Symmetry         object\n",
              "Report           object\n",
              "Price             int64\n",
              "dtype: object"
            ]
          },
          "execution_count": 3,
          "metadata": {},
          "output_type": "execute_result"
        }
      ],
      "source": [
        "data.dtypes"
      ]
    },
    {
      "cell_type": "markdown",
      "id": "1b32c2f2",
      "metadata": {
        "id": "1b32c2f2"
      },
      "source": [
        "# analyzing categorical features in python"
      ]
    },
    {
      "cell_type": "markdown",
      "id": "dd77ae0f",
      "metadata": {
        "id": "dd77ae0f"
      },
      "source": [
        "### value_count()-returns the frequency of each unique value in a categorical data column."
      ]
    },
    {
      "cell_type": "code",
      "execution_count": null,
      "id": "94f9b70d",
      "metadata": {
        "id": "94f9b70d",
        "outputId": "e6ccc4fe-8026-4158-ec9e-4ab733db5fe6"
      },
      "outputs": [
        {
          "data": {
            "text/plain": [
              "Ideal              2482\n",
              "Very Good          2428\n",
              "Good                708\n",
              "Signature-Ideal     253\n",
              "Fair                129\n",
              "Name: Cut, dtype: int64"
            ]
          },
          "execution_count": 4,
          "metadata": {},
          "output_type": "execute_result"
        }
      ],
      "source": [
        "# check value counts of Cut column\n",
        "data['Cut'].value_counts()"
      ]
    },
    {
      "cell_type": "code",
      "execution_count": null,
      "id": "0abfda61",
      "metadata": {
        "id": "0abfda61",
        "outputId": "e4349044-6565-4685-b14f-4c1b416825c3"
      },
      "outputs": [
        {
          "data": {
            "image/png": "[encoded data removed]",
            "text/plain": [
              "<Figure size 640x480 with 1 Axes>"
            ]
          },
          "metadata": {},
          "output_type": "display_data"
        }
      ],
      "source": [
        "cut_counts = data['Cut'].value_counts()\n",
        "\n",
        "plt.bar(cut_counts.index, cut_counts.values)\n",
        "plt.xlabel('Cut')\n",
        "plt.ylabel('Count')\n",
        "plt.title('Cut Counts')\n",
        "plt.show()\n"
      ]
    },
    {
      "cell_type": "markdown",
      "id": "fb1f672d",
      "metadata": {
        "id": "fb1f672d"
      },
      "source": [
        "### groupby()-group data by one or more columns and apply aggregate functions such as sum, mean, and count."
      ]
    },
    {
      "cell_type": "code",
      "execution_count": null,
      "id": "cd27b974",
      "metadata": {
        "id": "cd27b974",
        "outputId": "96b7a24d-6c1c-41fc-a5a4-34845d98c09c"
      },
      "outputs": [
        {
          "name": "stderr",
          "output_type": "stream",
          "text": [
            "/var/folders/df/j6vmwc2x15zcnhjldjcpv62m0000gn/T/ipykernel_1931/1773436121.py:1: FutureWarning: The default value of numeric_only in DataFrameGroupBy.mean is deprecated. In a future version, numeric_only will default to False. Either specify numeric_only or select only columns which should be valid for the function.\n",
            "  data.groupby(by = 'Cut').mean()\n"
          ]
        },
        {
          "data": {
            "text/html": [
              "<div>\n",
              "<style scoped>\n",
              "    .dataframe tbody tr th:only-of-type {\n",
              "        vertical-align: middle;\n",
              "    }\n",
              "\n",
              "    .dataframe tbody tr th {\n",
              "        vertical-align: top;\n",
              "    }\n",
              "\n",
              "    .dataframe thead th {\n",
              "        text-align: right;\n",
              "    }\n",
              "</style>\n",
              "<table border=\"1\" class=\"dataframe\">\n",
              "  <thead>\n",
              "    <tr style=\"text-align: right;\">\n",
              "      <th></th>\n",
              "      <th>Carat Weight</th>\n",
              "      <th>Price</th>\n",
              "    </tr>\n",
              "    <tr>\n",
              "      <th>Cut</th>\n",
              "      <th></th>\n",
              "      <th></th>\n",
              "    </tr>\n",
              "  </thead>\n",
              "  <tbody>\n",
              "    <tr>\n",
              "      <th>Fair</th>\n",
              "      <td>1.058682</td>\n",
              "      <td>5886.178295</td>\n",
              "    </tr>\n",
              "    <tr>\n",
              "      <th>Good</th>\n",
              "      <td>1.268927</td>\n",
              "      <td>9326.656780</td>\n",
              "    </tr>\n",
              "    <tr>\n",
              "      <th>Ideal</th>\n",
              "      <td>1.382293</td>\n",
              "      <td>13127.331185</td>\n",
              "    </tr>\n",
              "    <tr>\n",
              "      <th>Signature-Ideal</th>\n",
              "      <td>1.205217</td>\n",
              "      <td>11541.525692</td>\n",
              "    </tr>\n",
              "    <tr>\n",
              "      <th>Very Good</th>\n",
              "      <td>1.332941</td>\n",
              "      <td>11484.696870</td>\n",
              "    </tr>\n",
              "  </tbody>\n",
              "</table>\n",
              "</div>"
            ],
            "text/plain": [
              "                 Carat Weight         Price\n",
              "Cut                                        \n",
              "Fair                 1.058682   5886.178295\n",
              "Good                 1.268927   9326.656780\n",
              "Ideal                1.382293  13127.331185\n",
              "Signature-Ideal      1.205217  11541.525692\n",
              "Very Good            1.332941  11484.696870"
            ]
          },
          "execution_count": 9,
          "metadata": {},
          "output_type": "execute_result"
        }
      ],
      "source": [
        "data.groupby(by = 'Cut').mean()\n"
      ]
    },
    {
      "cell_type": "code",
      "execution_count": null,
      "id": "751481db",
      "metadata": {
        "id": "751481db",
        "outputId": "43b514a1-30df-4890-af65-a4cfe57b2d05"
      },
      "outputs": [
        {
          "name": "stderr",
          "output_type": "stream",
          "text": [
            "/var/folders/df/j6vmwc2x15zcnhjldjcpv62m0000gn/T/ipykernel_1931/3215091171.py:1: FutureWarning: The default value of numeric_only in DataFrameGroupBy.sum is deprecated. In a future version, numeric_only will default to False. Either specify numeric_only or select only columns which should be valid for the function.\n",
            "  data.groupby(by = 'Cut').sum()\n"
          ]
        },
        {
          "data": {
            "text/html": [
              "<div>\n",
              "<style scoped>\n",
              "    .dataframe tbody tr th:only-of-type {\n",
              "        vertical-align: middle;\n",
              "    }\n",
              "\n",
              "    .dataframe tbody tr th {\n",
              "        vertical-align: top;\n",
              "    }\n",
              "\n",
              "    .dataframe thead th {\n",
              "        text-align: right;\n",
              "    }\n",
              "</style>\n",
              "<table border=\"1\" class=\"dataframe\">\n",
              "  <thead>\n",
              "    <tr style=\"text-align: right;\">\n",
              "      <th></th>\n",
              "      <th>Carat Weight</th>\n",
              "      <th>Price</th>\n",
              "    </tr>\n",
              "    <tr>\n",
              "      <th>Cut</th>\n",
              "      <th></th>\n",
              "      <th></th>\n",
              "    </tr>\n",
              "  </thead>\n",
              "  <tbody>\n",
              "    <tr>\n",
              "      <th>Fair</th>\n",
              "      <td>136.57</td>\n",
              "      <td>759317</td>\n",
              "    </tr>\n",
              "    <tr>\n",
              "      <th>Good</th>\n",
              "      <td>898.40</td>\n",
              "      <td>6603273</td>\n",
              "    </tr>\n",
              "    <tr>\n",
              "      <th>Ideal</th>\n",
              "      <td>3430.85</td>\n",
              "      <td>32582036</td>\n",
              "    </tr>\n",
              "    <tr>\n",
              "      <th>Signature-Ideal</th>\n",
              "      <td>304.92</td>\n",
              "      <td>2920006</td>\n",
              "    </tr>\n",
              "    <tr>\n",
              "      <th>Very Good</th>\n",
              "      <td>3236.38</td>\n",
              "      <td>27884844</td>\n",
              "    </tr>\n",
              "  </tbody>\n",
              "</table>\n",
              "</div>"
            ],
            "text/plain": [
              "                 Carat Weight     Price\n",
              "Cut                                    \n",
              "Fair                   136.57    759317\n",
              "Good                   898.40   6603273\n",
              "Ideal                 3430.85  32582036\n",
              "Signature-Ideal        304.92   2920006\n",
              "Very Good             3236.38  27884844"
            ]
          },
          "execution_count": 10,
          "metadata": {},
          "output_type": "execute_result"
        }
      ],
      "source": [
        "data.groupby(by = 'Cut').sum()\n"
      ]
    },
    {
      "cell_type": "code",
      "execution_count": null,
      "id": "9c200e83",
      "metadata": {
        "id": "9c200e83",
        "outputId": "0d1e4b31-cb01-49d4-af42-adb15fc11444"
      },
      "outputs": [
        {
          "data": {
            "text/html": [
              "<div>\n",
              "<style scoped>\n",
              "    .dataframe tbody tr th:only-of-type {\n",
              "        vertical-align: middle;\n",
              "    }\n",
              "\n",
              "    .dataframe tbody tr th {\n",
              "        vertical-align: top;\n",
              "    }\n",
              "\n",
              "    .dataframe thead th {\n",
              "        text-align: right;\n",
              "    }\n",
              "</style>\n",
              "<table border=\"1\" class=\"dataframe\">\n",
              "  <thead>\n",
              "    <tr style=\"text-align: right;\">\n",
              "      <th></th>\n",
              "      <th>Carat Weight</th>\n",
              "      <th>Color</th>\n",
              "      <th>Clarity</th>\n",
              "      <th>Polish</th>\n",
              "      <th>Symmetry</th>\n",
              "      <th>Report</th>\n",
              "      <th>Price</th>\n",
              "    </tr>\n",
              "    <tr>\n",
              "      <th>Cut</th>\n",
              "      <th></th>\n",
              "      <th></th>\n",
              "      <th></th>\n",
              "      <th></th>\n",
              "      <th></th>\n",
              "      <th></th>\n",
              "      <th></th>\n",
              "    </tr>\n",
              "  </thead>\n",
              "  <tbody>\n",
              "    <tr>\n",
              "      <th>Fair</th>\n",
              "      <td>129</td>\n",
              "      <td>129</td>\n",
              "      <td>129</td>\n",
              "      <td>129</td>\n",
              "      <td>129</td>\n",
              "      <td>129</td>\n",
              "      <td>129</td>\n",
              "    </tr>\n",
              "    <tr>\n",
              "      <th>Good</th>\n",
              "      <td>708</td>\n",
              "      <td>708</td>\n",
              "      <td>708</td>\n",
              "      <td>708</td>\n",
              "      <td>708</td>\n",
              "      <td>708</td>\n",
              "      <td>708</td>\n",
              "    </tr>\n",
              "    <tr>\n",
              "      <th>Ideal</th>\n",
              "      <td>2482</td>\n",
              "      <td>2482</td>\n",
              "      <td>2482</td>\n",
              "      <td>2482</td>\n",
              "      <td>2482</td>\n",
              "      <td>2482</td>\n",
              "      <td>2482</td>\n",
              "    </tr>\n",
              "    <tr>\n",
              "      <th>Signature-Ideal</th>\n",
              "      <td>253</td>\n",
              "      <td>253</td>\n",
              "      <td>253</td>\n",
              "      <td>253</td>\n",
              "      <td>253</td>\n",
              "      <td>253</td>\n",
              "      <td>253</td>\n",
              "    </tr>\n",
              "    <tr>\n",
              "      <th>Very Good</th>\n",
              "      <td>2428</td>\n",
              "      <td>2428</td>\n",
              "      <td>2428</td>\n",
              "      <td>2428</td>\n",
              "      <td>2428</td>\n",
              "      <td>2428</td>\n",
              "      <td>2428</td>\n",
              "    </tr>\n",
              "  </tbody>\n",
              "</table>\n",
              "</div>"
            ],
            "text/plain": [
              "                 Carat Weight  Color  Clarity  Polish  Symmetry  Report  Price\n",
              "Cut                                                                           \n",
              "Fair                      129    129      129     129       129     129    129\n",
              "Good                      708    708      708     708       708     708    708\n",
              "Ideal                    2482   2482     2482    2482      2482    2482   2482\n",
              "Signature-Ideal           253    253      253     253       253     253    253\n",
              "Very Good                2428   2428     2428    2428      2428    2428   2428"
            ]
          },
          "execution_count": 11,
          "metadata": {},
          "output_type": "execute_result"
        }
      ],
      "source": [
        "data.groupby(by = 'Cut').count()"
      ]
    },
    {
      "cell_type": "markdown",
      "id": "d46bfcf8",
      "metadata": {
        "id": "d46bfcf8"
      },
      "source": [
        "### crosstab()-cross-tabulation table, which shows the frequency distribution of two or more categorical variables."
      ]
    },
    {
      "cell_type": "code",
      "execution_count": null,
      "id": "01b90ebb",
      "metadata": {
        "id": "01b90ebb",
        "outputId": "04fe0c61-ef0c-49c6-abf0-bd325834ba6b"
      },
      "outputs": [
        {
          "data": {
            "text/html": [
              "<div>\n",
              "<style scoped>\n",
              "    .dataframe tbody tr th:only-of-type {\n",
              "        vertical-align: middle;\n",
              "    }\n",
              "\n",
              "    .dataframe tbody tr th {\n",
              "        vertical-align: top;\n",
              "    }\n",
              "\n",
              "    .dataframe thead th {\n",
              "        text-align: right;\n",
              "    }\n",
              "</style>\n",
              "<table border=\"1\" class=\"dataframe\">\n",
              "  <thead>\n",
              "    <tr style=\"text-align: right;\">\n",
              "      <th>Color</th>\n",
              "      <th>D</th>\n",
              "      <th>E</th>\n",
              "      <th>F</th>\n",
              "      <th>G</th>\n",
              "      <th>H</th>\n",
              "      <th>I</th>\n",
              "    </tr>\n",
              "    <tr>\n",
              "      <th>Cut</th>\n",
              "      <th></th>\n",
              "      <th></th>\n",
              "      <th></th>\n",
              "      <th></th>\n",
              "      <th></th>\n",
              "      <th></th>\n",
              "    </tr>\n",
              "  </thead>\n",
              "  <tbody>\n",
              "    <tr>\n",
              "      <th>Fair</th>\n",
              "      <td>12</td>\n",
              "      <td>32</td>\n",
              "      <td>24</td>\n",
              "      <td>21</td>\n",
              "      <td>24</td>\n",
              "      <td>16</td>\n",
              "    </tr>\n",
              "    <tr>\n",
              "      <th>Good</th>\n",
              "      <td>74</td>\n",
              "      <td>110</td>\n",
              "      <td>133</td>\n",
              "      <td>148</td>\n",
              "      <td>128</td>\n",
              "      <td>115</td>\n",
              "    </tr>\n",
              "    <tr>\n",
              "      <th>Ideal</th>\n",
              "      <td>280</td>\n",
              "      <td>278</td>\n",
              "      <td>363</td>\n",
              "      <td>690</td>\n",
              "      <td>458</td>\n",
              "      <td>413</td>\n",
              "    </tr>\n",
              "    <tr>\n",
              "      <th>Signature-Ideal</th>\n",
              "      <td>30</td>\n",
              "      <td>35</td>\n",
              "      <td>38</td>\n",
              "      <td>64</td>\n",
              "      <td>45</td>\n",
              "      <td>41</td>\n",
              "    </tr>\n",
              "    <tr>\n",
              "      <th>Very Good</th>\n",
              "      <td>265</td>\n",
              "      <td>323</td>\n",
              "      <td>455</td>\n",
              "      <td>578</td>\n",
              "      <td>424</td>\n",
              "      <td>383</td>\n",
              "    </tr>\n",
              "  </tbody>\n",
              "</table>\n",
              "</div>"
            ],
            "text/plain": [
              "Color              D    E    F    G    H    I\n",
              "Cut                                          \n",
              "Fair              12   32   24   21   24   16\n",
              "Good              74  110  133  148  128  115\n",
              "Ideal            280  278  363  690  458  413\n",
              "Signature-Ideal   30   35   38   64   45   41\n",
              "Very Good        265  323  455  578  424  383"
            ]
          },
          "execution_count": 12,
          "metadata": {},
          "output_type": "execute_result"
        }
      ],
      "source": [
        "pd.crosstab(index=data['Cut'], columns=data['Color'])\n"
      ]
    },
    {
      "cell_type": "markdown",
      "id": "d7156249",
      "metadata": {
        "id": "d7156249"
      },
      "source": [
        "### pivot_table()-analyze multiple categorical variables and their relationship to one or more numeric variables. Pivot tables allow you to aggregate data in multiple ways and display the results in a compact form."
      ]
    },
    {
      "cell_type": "code",
      "execution_count": null,
      "id": "0f033060",
      "metadata": {
        "id": "0f033060",
        "outputId": "24be43ac-161f-48a9-96bd-361e27b87fa0"
      },
      "outputs": [
        {
          "data": {
            "text/html": [
              "<div>\n",
              "<style scoped>\n",
              "    .dataframe tbody tr th:only-of-type {\n",
              "        vertical-align: middle;\n",
              "    }\n",
              "\n",
              "    .dataframe tbody tr th {\n",
              "        vertical-align: top;\n",
              "    }\n",
              "\n",
              "    .dataframe thead th {\n",
              "        text-align: right;\n",
              "    }\n",
              "</style>\n",
              "<table border=\"1\" class=\"dataframe\">\n",
              "  <thead>\n",
              "    <tr style=\"text-align: right;\">\n",
              "      <th>Color</th>\n",
              "      <th>D</th>\n",
              "      <th>E</th>\n",
              "      <th>F</th>\n",
              "      <th>G</th>\n",
              "      <th>H</th>\n",
              "      <th>I</th>\n",
              "    </tr>\n",
              "    <tr>\n",
              "      <th>Cut</th>\n",
              "      <th></th>\n",
              "      <th></th>\n",
              "      <th></th>\n",
              "      <th></th>\n",
              "      <th></th>\n",
              "      <th></th>\n",
              "    </tr>\n",
              "  </thead>\n",
              "  <tbody>\n",
              "    <tr>\n",
              "      <th>Fair</th>\n",
              "      <td>6058.250000</td>\n",
              "      <td>5370.625000</td>\n",
              "      <td>6063.625000</td>\n",
              "      <td>7345.523810</td>\n",
              "      <td>5908.500000</td>\n",
              "      <td>4573.187500</td>\n",
              "    </tr>\n",
              "    <tr>\n",
              "      <th>Good</th>\n",
              "      <td>10058.716216</td>\n",
              "      <td>8969.545455</td>\n",
              "      <td>9274.007519</td>\n",
              "      <td>9988.614865</td>\n",
              "      <td>9535.132812</td>\n",
              "      <td>8174.113043</td>\n",
              "    </tr>\n",
              "    <tr>\n",
              "      <th>Ideal</th>\n",
              "      <td>18461.953571</td>\n",
              "      <td>12647.107914</td>\n",
              "      <td>14729.426997</td>\n",
              "      <td>13570.310145</td>\n",
              "      <td>11527.700873</td>\n",
              "      <td>9459.588378</td>\n",
              "    </tr>\n",
              "    <tr>\n",
              "      <th>Signature-Ideal</th>\n",
              "      <td>19823.100000</td>\n",
              "      <td>11261.914286</td>\n",
              "      <td>13247.947368</td>\n",
              "      <td>10248.296875</td>\n",
              "      <td>9112.688889</td>\n",
              "      <td>8823.463415</td>\n",
              "    </tr>\n",
              "    <tr>\n",
              "      <th>Very Good</th>\n",
              "      <td>13218.826415</td>\n",
              "      <td>12101.910217</td>\n",
              "      <td>12413.905495</td>\n",
              "      <td>12354.013841</td>\n",
              "      <td>10056.106132</td>\n",
              "      <td>8930.031332</td>\n",
              "    </tr>\n",
              "  </tbody>\n",
              "</table>\n",
              "</div>"
            ],
            "text/plain": [
              "Color                       D             E             F             G  \\\n",
              "Cut                                                                       \n",
              "Fair              6058.250000   5370.625000   6063.625000   7345.523810   \n",
              "Good             10058.716216   8969.545455   9274.007519   9988.614865   \n",
              "Ideal            18461.953571  12647.107914  14729.426997  13570.310145   \n",
              "Signature-Ideal  19823.100000  11261.914286  13247.947368  10248.296875   \n",
              "Very Good        13218.826415  12101.910217  12413.905495  12354.013841   \n",
              "\n",
              "Color                       H            I  \n",
              "Cut                                         \n",
              "Fair              5908.500000  4573.187500  \n",
              "Good              9535.132812  8174.113043  \n",
              "Ideal            11527.700873  9459.588378  \n",
              "Signature-Ideal   9112.688889  8823.463415  \n",
              "Very Good        10056.106132  8930.031332  "
            ]
          },
          "execution_count": 13,
          "metadata": {},
          "output_type": "execute_result"
        }
      ],
      "source": [
        "pd.pivot_table(data, values='Price', index='Cut', columns='Color', aggfunc=np.mean)"
      ]
    },
    {
      "cell_type": "markdown",
      "id": "b353e6fa",
      "metadata": {
        "id": "b353e6fa"
      },
      "source": [
        "# one hot encoding"
      ]
    },
    {
      "cell_type": "markdown",
      "id": "fd1065a6",
      "metadata": {
        "id": "fd1065a6"
      },
      "source": [
        "### pandas categorical to numerical -by using the `pd.get_dummies()` method."
      ]
    },
    {
      "cell_type": "code",
      "execution_count": null,
      "id": "a0b9860b",
      "metadata": {
        "id": "a0b9860b",
        "outputId": "d64071cf-8ae6-419f-8262-4d0d7a60356b"
      },
      "outputs": [
        {
          "data": {
            "text/html": [
              "<div>\n",
              "<style scoped>\n",
              "    .dataframe tbody tr th:only-of-type {\n",
              "        vertical-align: middle;\n",
              "    }\n",
              "\n",
              "    .dataframe tbody tr th {\n",
              "        vertical-align: top;\n",
              "    }\n",
              "\n",
              "    .dataframe thead th {\n",
              "        text-align: right;\n",
              "    }\n",
              "</style>\n",
              "<table border=\"1\" class=\"dataframe\">\n",
              "  <thead>\n",
              "    <tr style=\"text-align: right;\">\n",
              "      <th></th>\n",
              "      <th>apple</th>\n",
              "      <th>banana</th>\n",
              "      <th>orange</th>\n",
              "    </tr>\n",
              "  </thead>\n",
              "  <tbody>\n",
              "    <tr>\n",
              "      <th>0</th>\n",
              "      <td>1</td>\n",
              "      <td>0</td>\n",
              "      <td>0</td>\n",
              "    </tr>\n",
              "    <tr>\n",
              "      <th>1</th>\n",
              "      <td>0</td>\n",
              "      <td>1</td>\n",
              "      <td>0</td>\n",
              "    </tr>\n",
              "    <tr>\n",
              "      <th>2</th>\n",
              "      <td>0</td>\n",
              "      <td>0</td>\n",
              "      <td>1</td>\n",
              "    </tr>\n",
              "    <tr>\n",
              "      <th>3</th>\n",
              "      <td>1</td>\n",
              "      <td>0</td>\n",
              "      <td>0</td>\n",
              "    </tr>\n",
              "  </tbody>\n",
              "</table>\n",
              "</div>"
            ],
            "text/plain": [
              "   apple  banana  orange\n",
              "0      1       0       0\n",
              "1      0       1       0\n",
              "2      0       0       1\n",
              "3      1       0       0"
            ]
          },
          "execution_count": 14,
          "metadata": {},
          "output_type": "execute_result"
        }
      ],
      "source": [
        "import pandas as pd\n",
        "\n",
        "# generate df with 1 col and 4 rows\n",
        "data = {\n",
        "    \"fruit\": [\"apple\", \"banana\", \"orange\", \"apple\"]\n",
        "}\n",
        "\n",
        "# show head\n",
        "df = pd.DataFrame(data)\n",
        "df.head()\n",
        "# apply get_dummies function\n",
        "df_encoded = pd.get_dummies(df[\"fruit\"])\n",
        "df_encoded .head()\n"
      ]
    },
    {
      "cell_type": "markdown",
      "id": "f247f95b",
      "metadata": {
        "id": "f247f95b"
      },
      "source": [
        "### `OneHotEncoder` from the sklearn library"
      ]
    },
    {
      "cell_type": "code",
      "execution_count": null,
      "id": "ad79e2a6",
      "metadata": {
        "id": "ad79e2a6"
      },
      "outputs": [],
      "source": [
        "import pandas as pd\n",
        "\n",
        "# generate df with 1 col and 4 rows\n",
        "data = {\n",
        "    \"fruit\": [\"apple\", \"banana\", \"orange\", \"apple\"]\n",
        "}\n",
        "\n",
        "# one-hot-encode using sklearn\n",
        "from sklearn.preprocessing import OneHotEncoder\n",
        "encoder = OneHotEncoder()\n",
        "encoded_results = encoder.fit_transform(df).toarray()\n"
      ]
    },
    {
      "cell_type": "code",
      "execution_count": null,
      "id": "27c7c42c",
      "metadata": {
        "id": "27c7c42c"
      },
      "outputs": [],
      "source": []
    }
  ],
  "metadata": {
    "kernelspec": {
      "display_name": "Python 3 (ipykernel)",
      "language": "python",
      "name": "python3"
    },
    "language_info": {
      "codemirror_mode": {
        "name": "ipython",
        "version": 3
      },
      "file_extension": ".py",
      "mimetype": "text/x-python",
      "name": "python",
      "nbconvert_exporter": "python",
      "pygments_lexer": "ipython3",
      "version": "3.10.3"
    },
    "colab": {
      "provenance": []
    }
  },
  "nbformat": 4,
  "nbformat_minor": 5
}