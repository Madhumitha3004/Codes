{
  "nbformat": 4,
  "nbformat_minor": 0,
  "metadata": {
    "colab": {
      "provenance": [],
      "toc_visible": true
    },
    "kernelspec": {
      "name": "python3",
      "display_name": "Python 3"
    },
    "language_info": {
      "name": "python"
    }
  },
  "cells": [
    {
      "cell_type": "markdown",
      "source": [
        "# Measures of central tendency"
      ],
      "metadata": {
        "id": "Sg7pAzvlrNYB"
      }
    },
    {
      "cell_type": "code",
      "execution_count": null,
      "metadata": {
        "colab": {
          "base_uri": "https://localhost:8080/"
        },
        "id": "kE4Kr1vDom1M",
        "outputId": "6db3408e-421f-4adb-f85b-8ad5c090456a"
      },
      "outputs": [
        {
          "output_type": "stream",
          "name": "stdout",
          "text": [
            "Mean =  7.333333333333333\n"
          ]
        }
      ],
      "source": [
        "import numpy as np\n",
        "\n",
        "# Sample Data\n",
        "arr = [5, 6, 11]\n",
        "\n",
        "# Mean\n",
        "mean = np.mean(arr)\n",
        "\n",
        "print(\"Mean = \", mean)"
      ]
    },
    {
      "cell_type": "code",
      "source": [
        "import scipy.stats as stats\n",
        "\n",
        "# sample Data\n",
        "arr = [1, 2, 2, 3]\n",
        "\n",
        "# Mode\n",
        "mode = stats.mode(arr)\n",
        "print(\"Mode = \", mode)"
      ],
      "metadata": {
        "colab": {
          "base_uri": "https://localhost:8080/"
        },
        "id": "Qukwx0CypB1t",
        "outputId": "60b0c16f-fa63-4bde-c27c-24c1d625e4e2"
      },
      "execution_count": null,
      "outputs": [
        {
          "output_type": "stream",
          "name": "stdout",
          "text": [
            "Mode =  ModeResult(mode=2, count=2)\n"
          ]
        }
      ]
    },
    {
      "cell_type": "code",
      "source": [
        "import numpy as np\n",
        "\n",
        "# sample Data\n",
        "arr = [1, 2, 3, 4]\n",
        "\n",
        "# Median\n",
        "median = np.median(arr)\n",
        "\n",
        "print(\"Median = \", median)"
      ],
      "metadata": {
        "colab": {
          "base_uri": "https://localhost:8080/"
        },
        "id": "wtGvobKUphbH",
        "outputId": "bd5a5e54-ab6b-4da1-feb2-efaed673392c"
      },
      "execution_count": null,
      "outputs": [
        {
          "output_type": "stream",
          "name": "stdout",
          "text": [
            "Median =  2.5\n"
          ]
        }
      ]
    },
    {
      "cell_type": "markdown",
      "source": [
        "# Measures of Dispersion"
      ],
      "metadata": {
        "id": "UDt8S3jjrLn-"
      }
    },
    {
      "cell_type": "code",
      "source": [
        "import numpy as np\n",
        "\n",
        "# Sample Data\n",
        "arr = [1, 2, 3, 4, 5]\n",
        "\n",
        "# Finding Max\n",
        "Maximum = max(arr)\n",
        "# Finding Min\n",
        "Minimum = min(arr)\n",
        "\n",
        "# Difference Of Max and Min\n",
        "Range = Maximum-Minimum\n",
        "print(\"Maximum = {}, Minimum = {} and Range = {}\".format(\n",
        "    Maximum, Minimum, Range))"
      ],
      "metadata": {
        "colab": {
          "base_uri": "https://localhost:8080/"
        },
        "id": "1c0jUFJNq0Sm",
        "outputId": "b0236a76-391b-481d-d647-3bed93e8787c"
      },
      "execution_count": null,
      "outputs": [
        {
          "output_type": "stream",
          "name": "stdout",
          "text": [
            "Maximum = 5, Minimum = 1 and Range = 4\n"
          ]
        }
      ]
    },
    {
      "cell_type": "code",
      "source": [
        "import statistics\n",
        "\n",
        "# sample data\n",
        "arr = [1, 2, 3, 4, 5]\n",
        "# variance\n",
        "print(\"Var = \", (statistics.variance(arr)))"
      ],
      "metadata": {
        "colab": {
          "base_uri": "https://localhost:8080/"
        },
        "id": "etxODevxruKs",
        "outputId": "e3fc305f-b8d1-46c9-d6b3-25cb32e21aad"
      },
      "execution_count": null,
      "outputs": [
        {
          "output_type": "stream",
          "name": "stdout",
          "text": [
            "Var =  2.5\n"
          ]
        }
      ]
    },
    {
      "cell_type": "code",
      "source": [
        "import statistics\n",
        "arr = [1, 2, 3, 4, 5]\n",
        "print(\"Std = \", (statistics.stdev(arr)))"
      ],
      "metadata": {
        "colab": {
          "base_uri": "https://localhost:8080/"
        },
        "id": "ophQairzt7C6",
        "outputId": "2c487a09-89da-41f1-c78f-073486eb1f45"
      },
      "execution_count": null,
      "outputs": [
        {
          "output_type": "stream",
          "name": "stdout",
          "text": [
            "Std =  1.5811388300841898\n"
          ]
        }
      ]
    },
    {
      "cell_type": "code",
      "source": [
        "import numpy as np\n",
        "\n",
        "# Sample dataset\n",
        "data = np.array([1, 2, 3, 4, 5, 6, 7, 8, 9, 10])\n",
        "\n",
        "# Calculate Interquartile Range (IQR) using numpy\n",
        "q1 = np.percentile(data, 25)\n",
        "q3 = np.percentile(data, 75)\n",
        "iqr = q3 - q1\n",
        "\n",
        "# Calculate Quartile Deviation\n",
        "quartile_deviation = (q3 - q1) / 2\n",
        "\n",
        "print(\"Interquartile Range (IQR):\", iqr)\n",
        "print(\"Quartile Deviation:\", quartile_deviation)"
      ],
      "metadata": {
        "colab": {
          "base_uri": "https://localhost:8080/"
        },
        "id": "go7oJ76du7yB",
        "outputId": "59b2faf7-5855-4eb9-d667-33722bbed450"
      },
      "execution_count": null,
      "outputs": [
        {
          "output_type": "stream",
          "name": "stdout",
          "text": [
            "Interquartile Range (IQR): 4.5\n",
            "Quartile Deviation: 2.25\n"
          ]
        }
      ]
    },
    {
      "cell_type": "markdown",
      "source": [
        "# Measures of skewness"
      ],
      "metadata": {
        "id": "cRHJdXTliVGy"
      }
    },
    {
      "cell_type": "code",
      "source": [
        "# Importing scipy\n",
        "import scipy\n",
        "# Importing library\n",
        "from scipy.stats import skew\n",
        "\n",
        "# Creating a dataset\n",
        "dataset = [88, 85, 82, 97, 67, 77, 74, 86,\n",
        "\t\t81, 95, 77, 88, 85, 76, 81]\n",
        "\n",
        "# Calculate the skewness\n",
        "print(skew(dataset, axis=0, bias=True))\n",
        "\n",
        "#Parameters:\n",
        "#array: It represents the input array (or object) containing elements.\n",
        "#axis: It signifies the axis along which we want to find the skewness value (By default axis = 0).\n",
        "#bias = False: Calculations are corrected to statistical bias.\n",
        "\n"
      ],
      "metadata": {
        "colab": {
          "base_uri": "https://localhost:8080/"
        },
        "id": "tyC4ZMrJiUTZ",
        "outputId": "44470617-dd94-4edf-fa0c-d8c9995d7555"
      },
      "execution_count": null,
      "outputs": [
        {
          "output_type": "stream",
          "name": "stdout",
          "text": [
            "0.029331688766181797\n"
          ]
        }
      ]
    },
    {
      "cell_type": "code",
      "source": [
        "import pandas as pd\n",
        "import matplotlib.pyplot as plt\n",
        "from scipy.stats import skew\n",
        "import seaborn as sns\n",
        "\n",
        "data = [1, 2, 3, 4, 5, 10, 15, 20, 25]  # Example data\n",
        "df = pd.DataFrame({'values': data})\n",
        "\n",
        "skewness = df['values'].skew()\n",
        "print(\"Skewness:\", skewness)\n",
        "\n",
        "sns.histplot(data=df, x='values')\n",
        "plt.title(\"Distribution of Data\")\n",
        "plt.show()\n",
        "\n"
      ],
      "metadata": {
        "colab": {
          "base_uri": "https://localhost:8080/",
          "height": 489
        },
        "id": "sDuLfg7gmaeq",
        "outputId": "5cfe3015-2b1a-449f-fe74-242c81e8ba02"
      },
      "execution_count": null,
      "outputs": [
        {
          "output_type": "stream",
          "name": "stdout",
          "text": [
            "Skewness: 0.8809824892513307\n"
          ]
        },
        {
          "output_type": "display_data",
          "data": {
            "text/plain": [
              "<Figure size 640x480 with 1 Axes>"
            ],
            "image/png": "[encoded data removed]"
          },
          "metadata": {}
        }
      ]
    },
    {
      "cell_type": "markdown",
      "source": [
        "# Measures of Kurtosis"
      ],
      "metadata": {
        "id": "A1-khyPWjud1"
      }
    },
    {
      "cell_type": "code",
      "source": [
        "# Importing library\n",
        "\n",
        "from scipy.stats import kurtosis\n",
        "\n",
        "# Creating a dataset\n",
        "dataset = [88, 85, 82, 97, 67, 77, 74, 86,\n",
        "\t\t81, 95, 77, 88, 85, 76, 81]\n",
        "\n",
        "\n",
        "# Calculate the kurtosis\n",
        "print(kurtosis(dataset, axis=0, bias=True))\n",
        "\n",
        "#array: Input array or object having the elements.\n",
        "#axis: It represents the axis along which the kurtosis value is to be measured. By default axis = 0.\n",
        "#fisher = True: The fisher’s definition will be used (normal 0.0).\n",
        "#fisher =  False: The Pearson’s definition will be used (normal 3.0).\n",
        "#Bias = True: Calculations are corrected for statistical bias, if set to False.\n"
      ],
      "metadata": {
        "colab": {
          "base_uri": "https://localhost:8080/"
        },
        "id": "zo9TNFZsi8xg",
        "outputId": "20e8a286-8b24-4967-916c-ff9f02b717af"
      },
      "execution_count": null,
      "outputs": [
        {
          "output_type": "stream",
          "name": "stdout",
          "text": [
            "-0.29271198374234686\n"
          ]
        }
      ]
    },
    {
      "cell_type": "code",
      "source": [
        "import pandas as pd\n",
        "\n",
        "import matplotlib.pyplot as plt\n",
        "\n",
        "\n",
        "\n",
        "# Sample data\n",
        "\n",
        "data = [1, 2, 2, 3, 3, 3, 4, 5, 5, 10]\n",
        "\n",
        "df = pd.DataFrame({'values': data})\n",
        "\n",
        "\n",
        "\n",
        "# Calculate kurtosis\n",
        "\n",
        "kurtosis_value = df['values'].kurtosis()\n",
        "\n",
        "print(\"Kurtosis:\", kurtosis_value)\n",
        "\n",
        "\n",
        "\n",
        "# Plot the distribution\n",
        "\n",
        "plt.hist(data, bins=10, density=True)\n",
        "\n",
        "plt.xlabel('Values')\n",
        "\n",
        "plt.ylabel('Density')\n",
        "\n",
        "plt.title('Distribution with Kurtosis: ' + str(round(kurtosis_value, 2)))\n",
        "\n",
        "plt.show()\n"
      ],
      "metadata": {
        "colab": {
          "base_uri": "https://localhost:8080/",
          "height": 489
        },
        "id": "yuDKnltioglu",
        "outputId": "c9a11ea6-50d2-49a2-840c-6ffe01072947"
      },
      "execution_count": null,
      "outputs": [
        {
          "output_type": "stream",
          "name": "stdout",
          "text": [
            "Kurtosis: 4.002278645833331\n"
          ]
        },
        {
          "output_type": "display_data",
          "data": {
            "text/plain": [
              "<Figure size 640x480 with 1 Axes>"
            ],
            "image/png": "[encoded data removed]"
          },
          "metadata": {}
        }
      ]
    }
  ]
}