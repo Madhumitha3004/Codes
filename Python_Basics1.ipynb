{
  "nbformat": 4,
  "nbformat_minor": 0,
  "metadata": {
    "colab": {
      "provenance": [],
      "toc_visible": true
    },
    "kernelspec": {
      "name": "python3",
      "display_name": "Python 3"
    },
    "language_info": {
      "name": "python"
    }
  },
  "cells": [
    {
      "cell_type": "markdown",
      "source": [
        "# Introduction\n"
      ],
      "metadata": {
        "id": "RULZOhItfdat"
      }
    },
    {
      "cell_type": "code",
      "execution_count": null,
      "metadata": {
        "colab": {
          "base_uri": "https://localhost:8080/"
        },
        "id": "HanEgVcpGJeP",
        "outputId": "2645c4cd-3855-4267-e815-1445d3eb407b"
      },
      "outputs": [
        {
          "output_type": "stream",
          "name": "stdout",
          "text": [
            "3.11.11 (main, Dec  4 2024, 08:55:07) [GCC 11.4.0]\n"
          ]
        }
      ],
      "source": [
        "import sys\n",
        "\n",
        "print(sys.version)"
      ]
    },
    {
      "cell_type": "code",
      "source": [
        "#python indentation\n",
        "if 5 > 2:\n",
        "    print(\"Five is greater than two!\")"
      ],
      "metadata": {
        "colab": {
          "base_uri": "https://localhost:8080/"
        },
        "id": "rAxFWG0iPIit",
        "outputId": "5c292a48-ada7-4aaf-9eba-990a1ab527c1"
      },
      "execution_count": null,
      "outputs": [
        {
          "output_type": "stream",
          "name": "stdout",
          "text": [
            "Five is greater than two!\n"
          ]
        }
      ]
    },
    {
      "cell_type": "code",
      "source": [
        "x=5\n",
        "x=\"hello\"\n",
        "print(x)\n",
        "\n",
        "\"\"\"A variable name must start with a letter or the underscore character\n",
        "A variable name cannot start with a number\n",
        "A variable name can only contain alpha-numeric characters and underscores (A-z, 0-9, and _ )\n",
        "Variable names are case-sensitive (age, Age and AGE are three different variables)\n",
        "A variable name cannot be any of the Python keywords.\"\"\"\n",
        "\n",
        "x,y,z=\"orange\",\"banana\",\"cherry\"\n",
        "print(x)\n",
        "print(y)\n",
        "print(z)\n",
        "\n",
        "\n"
      ],
      "metadata": {
        "colab": {
          "base_uri": "https://localhost:8080/"
        },
        "id": "ki5iJyzDRVet",
        "outputId": "190e3dd3-94bd-4658-e076-2345b0621d1e"
      },
      "execution_count": null,
      "outputs": [
        {
          "output_type": "stream",
          "name": "stdout",
          "text": [
            "hello\n",
            "orange\n",
            "banana\n",
            "cherry\n"
          ]
        }
      ]
    },
    {
      "cell_type": "code",
      "source": [
        "#global variables\n",
        "x=5\n",
        "def myfunc():\n",
        "  print(x)\n",
        "\n",
        "myfunc()\n"
      ],
      "metadata": {
        "colab": {
          "base_uri": "https://localhost:8080/"
        },
        "id": "GnMgTQqWR0Gn",
        "outputId": "60bbcfbc-99c2-43f9-96e4-e1377797e6be"
      },
      "execution_count": null,
      "outputs": [
        {
          "output_type": "stream",
          "name": "stdout",
          "text": [
            "5\n"
          ]
        }
      ]
    },
    {
      "cell_type": "code",
      "source": [
        "y=3\n",
        "def myfunc():\n",
        "  y=24\n",
        "  print (y)\n",
        "\n",
        "myfunc()\n",
        "print(y)"
      ],
      "metadata": {
        "colab": {
          "base_uri": "https://localhost:8080/"
        },
        "id": "Y_iU3fkuSFZh",
        "outputId": "d4f0f241-6c85-4c81-9a53-de28f81619ed"
      },
      "execution_count": null,
      "outputs": [
        {
          "output_type": "stream",
          "name": "stdout",
          "text": [
            "24\n",
            "3\n"
          ]
        }
      ]
    },
    {
      "cell_type": "code",
      "source": [
        "#global Keyword global():To create a global variable inside a function\n",
        "def myfunc():\n",
        "  global x\n",
        "  x=34\n",
        "myfunc()\n",
        "\n",
        "print(x)\n"
      ],
      "metadata": {
        "colab": {
          "base_uri": "https://localhost:8080/"
        },
        "id": "V3lj--ZoSfhC",
        "outputId": "287704d2-df63-41db-84d6-702602a5e629"
      },
      "execution_count": null,
      "outputs": [
        {
          "output_type": "stream",
          "name": "stdout",
          "text": [
            "34\n"
          ]
        }
      ]
    },
    {
      "cell_type": "code",
      "source": [
        "x=\"23\"\n",
        "def myfunc():\n",
        "  global x\n",
        "  x=43\n",
        "\n",
        "myfunc()\n",
        "print(x)\n"
      ],
      "metadata": {
        "colab": {
          "base_uri": "https://localhost:8080/"
        },
        "id": "m5fWUWQcS4Xl",
        "outputId": "a872a529-cf97-4e96-ef08-27c1aa492424"
      },
      "execution_count": null,
      "outputs": [
        {
          "output_type": "stream",
          "name": "stdout",
          "text": [
            "43\n"
          ]
        }
      ]
    },
    {
      "cell_type": "code",
      "source": [
        "#list\n",
        "x=[\"a\",\"b\",\"c\"]\n",
        "print(x)\n",
        "#tuple\n",
        "y=(23,43,12,32)\n",
        "print (y)\n",
        "\n",
        "#lists are mutable whereas tuples are immutable\n",
        "\n",
        "List=[2,3,4,5]\n",
        "List[2] = 34\n",
        "print (List)\n",
        "\n",
        "import sys\n",
        "\n",
        "List=[2,3,4,5]\n",
        "print(sys.getsizeof(List))\n",
        "\n",
        "print (sys.getsizeof(y))"
      ],
      "metadata": {
        "colab": {
          "base_uri": "https://localhost:8080/"
        },
        "id": "X7A65FahTVZe",
        "outputId": "ae5384be-5f8d-46a9-9b7c-d679e46a7d93"
      },
      "execution_count": null,
      "outputs": [
        {
          "output_type": "stream",
          "name": "stdout",
          "text": [
            "['a', 'b', 'c']\n",
            "(23, 43, 12, 32)\n",
            "[2, 3, 34, 5]\n",
            "88\n",
            "72\n"
          ]
        }
      ]
    },
    {
      "cell_type": "code",
      "source": [
        "\"\"\"Sets are an unordered collection of unique elements, whereas a dictionary is an ordered collection of key-value pairs.\n",
        "Sets store unique elements, while dictionaries store related pieces of information.\n",
        "Elements of both sets and dictionaries are mutable. Both sets and dictionaries do not allow duplicate entries.\n",
        "\"\"\"\n",
        "#dict and set\n",
        "x={\"name\" : \"qwerty\",\"no\":9}\n",
        "print (x)\n",
        "\n",
        "x={\"a\",\"b\",\"c\"}\n",
        "print(x)"
      ],
      "metadata": {
        "colab": {
          "base_uri": "https://localhost:8080/"
        },
        "id": "UKe3Sv7OYV3c",
        "outputId": "2e74af29-7b63-403b-aace-bf23bfcc431c"
      },
      "execution_count": null,
      "outputs": [
        {
          "output_type": "stream",
          "name": "stdout",
          "text": [
            "{'name': 'qwerty', 'no': 9}\n",
            "{'b', 'a', 'c'}\n"
          ]
        }
      ]
    },
    {
      "cell_type": "code",
      "source": [
        " #frozenset():An immutable version of a Python set object is a frozen set.\n",
        "\n",
        " x=frozenset({\"a\",\"b\",\"c\"})\n",
        " print(x)"
      ],
      "metadata": {
        "colab": {
          "base_uri": "https://localhost:8080/"
        },
        "id": "gM-Vy2tXY7eL",
        "outputId": "b53f3599-9821-455c-c3b0-ad3b754ba9dd"
      },
      "execution_count": null,
      "outputs": [
        {
          "output_type": "stream",
          "name": "stdout",
          "text": [
            "frozenset({'b', 'a', 'c'})\n"
          ]
        }
      ]
    },
    {
      "cell_type": "code",
      "source": [
        "#byte and bytearray\n",
        "\"\"\"a bytes object is immutable, which means that once formed, its elements cannot be changed.\n",
        " A bytearray object, on the other hand, allows you to change its elements\n",
        "\"\"\"\n",
        "x=b\"hello\"\n",
        "print(x)\n",
        "\n",
        "w=bytearray(5)\n",
        "print(w)\n",
        "\n",
        "\n",
        "#memoryview\n",
        "c=memoryview(bytes(5))\n",
        "print(c)"
      ],
      "metadata": {
        "colab": {
          "base_uri": "https://localhost:8080/"
        },
        "id": "2gj3WblHaZCn",
        "outputId": "426a17b4-c272-4d31-dbeb-a31157365881"
      },
      "execution_count": null,
      "outputs": [
        {
          "output_type": "stream",
          "name": "stdout",
          "text": [
            "b'hello'\n",
            "bytearray(b'\\x00\\x00\\x00\\x00\\x00')\n",
            "<memory at 0x7cd741a74640>\n"
          ]
        }
      ]
    },
    {
      "cell_type": "code",
      "source": [
        "#type conversion\n",
        "x=1 #int\n",
        "y=23.23 #float\n",
        "z=23j #complex\n",
        "\n",
        "a=float(x)\n",
        "b=complex(y)\n",
        "c= int(y)\n",
        "\n",
        "print(a,b,c)"
      ],
      "metadata": {
        "colab": {
          "base_uri": "https://localhost:8080/"
        },
        "id": "oI5gnS-5bnMD",
        "outputId": "82a04e89-ee52-46ad-d4bb-a74b9a38c074"
      },
      "execution_count": null,
      "outputs": [
        {
          "output_type": "stream",
          "name": "stdout",
          "text": [
            "1.0 (23.23+0j) 23\n"
          ]
        }
      ]
    },
    {
      "cell_type": "code",
      "source": [
        "#random\n",
        "import random\n",
        "print(random.randrange(1,10))"
      ],
      "metadata": {
        "colab": {
          "base_uri": "https://localhost:8080/"
        },
        "id": "UVcwRcOgciYo",
        "outputId": "70e49311-9b48-4bb7-a814-eeb7f1e3260d"
      },
      "execution_count": null,
      "outputs": [
        {
          "output_type": "stream",
          "name": "stdout",
          "text": [
            "5\n"
          ]
        }
      ]
    },
    {
      "cell_type": "markdown",
      "source": [
        "# strings"
      ],
      "metadata": {
        "id": "b_nelANCfmkl"
      }
    },
    {
      "cell_type": "code",
      "source": [
        "#strings\n",
        "#quotes inside quotes:use quotes inside a string, as long as they don't match the quotes surrounding the string\n",
        "print (\"it's noon\")\n",
        "\n",
        "#multiline string\n",
        "a='''use quotes inside a string, as long as they don't match the quotes surrounding the string'''\n",
        "print (a)\n",
        "\n",
        "#string are arrays\n",
        "a=\"hello\"\n",
        "print (a[2])\n",
        "\n",
        "#looping through string using for\n",
        "for x in \"hello\":\n",
        "  print(x)\n",
        "\n",
        "print(len(a))\n",
        "\n",
        "# sting check: To check if a certain phrase or character is present in a string, we can use the keyword in\n",
        "txt = \"The best things in life are free!\"\n",
        "print(\"free\" in txt)\n",
        "\n",
        "#check if NOT\n",
        "txt = \"The best things in life are free!\"\n",
        "print(\"expensive\" not in txt)\n",
        "\n",
        "#using if\n",
        "if 'free' in txt:\n",
        "  print(\"free is present\")\n",
        "if 'expensive' not in txt:\n",
        "  print(\"expensive is not present\")\n"
      ],
      "metadata": {
        "colab": {
          "base_uri": "https://localhost:8080/"
        },
        "id": "OMYgfxqqcviB",
        "outputId": "790eae3b-f017-44fb-ee36-81b40c8592cd"
      },
      "execution_count": null,
      "outputs": [
        {
          "output_type": "stream",
          "name": "stdout",
          "text": [
            "it's noon\n",
            "use quotes inside a string, as long as they don't match the quotes surrounding the string\n",
            "l\n",
            "h\n",
            "e\n",
            "l\n",
            "l\n",
            "o\n",
            "5\n",
            "True\n",
            "True\n",
            "free is present\n",
            "expensive is not present\n"
          ]
        }
      ]
    },
    {
      "cell_type": "code",
      "source": [
        "#string slicing\n",
        "a=\"hello world\"\n",
        "print(a[2:4])\n",
        "\n",
        "''' slice from the start, slice from the end, negative indexing'''\n"
      ],
      "metadata": {
        "colab": {
          "base_uri": "https://localhost:8080/"
        },
        "id": "qGvFw4eigulG",
        "outputId": "a83eb6e8-2157-47e9-96c7-1e3e0ee1c919"
      },
      "execution_count": null,
      "outputs": [
        {
          "output_type": "stream",
          "name": "stdout",
          "text": [
            "ll\n"
          ]
        }
      ]
    },
    {
      "cell_type": "code",
      "source": [
        "#f-string: simply put an f in front of the string literal, and add curly brackets {} as placeholders for variables and other operations\n",
        "#A placeholder can contain variables, operations, functions, and modifiers to format the value.\n",
        "\n",
        "q=23\n",
        "txt=f\"hello world {q}\"\n",
        "print(txt)\n",
        "\n",
        "'''A placeholder can include a modifier to format the value.\n",
        "\n",
        "A modifier is included by adding a colon : followed by a legal formatting type, like .2f which means fixed point number with 2 decimals:'''\n",
        "price = 59\n",
        "t = f\"The price is {price:.2f} dollars\"\n",
        "print(t)\n"
      ],
      "metadata": {
        "colab": {
          "base_uri": "https://localhost:8080/"
        },
        "id": "mz_h-chLhOxH",
        "outputId": "57786bc7-3e1b-4096-adfd-9ae07803ab73"
      },
      "execution_count": null,
      "outputs": [
        {
          "output_type": "stream",
          "name": "stdout",
          "text": [
            "hello world 23\n",
            "The price is 59.00 dollars\n"
          ]
        }
      ]
    },
    {
      "cell_type": "code",
      "source": [
        "#boolean\n",
        "a=200\n",
        "b=23\n",
        "if a>b:\n",
        "  print(\"a is greater than b\")\n",
        "else:\n",
        "  print(\"b is greater than a\")\n",
        "\n",
        "\n",
        "print(bool(\"hello\"))\n",
        "print(bool(23))"
      ],
      "metadata": {
        "colab": {
          "base_uri": "https://localhost:8080/"
        },
        "id": "s6n5CPwLnzAw",
        "outputId": "a45ee988-afa6-4c90-945b-5f53ffc5cc20"
      },
      "execution_count": null,
      "outputs": [
        {
          "output_type": "stream",
          "name": "stdout",
          "text": [
            "a is greater than b\n",
            "True\n",
            "True\n"
          ]
        }
      ]
    },
    {
      "cell_type": "markdown",
      "source": [
        "# lists"
      ],
      "metadata": {
        "id": "dpFTnGT3fvvU"
      }
    },
    {
      "cell_type": "code",
      "source": [
        "#lists\n",
        "thislist = [\"apple\", \"banana\", \"cherry\"]\n",
        "print(thislist[-1])\n",
        "\n",
        "\n",
        "thislist = [\"a\", \"b\", \"c\", \"o\", \"k\", \"m\", \"m\"]\n",
        "print(thislist[2:5])\n",
        "print(thislist[:4])\n",
        "print(thislist[2:])\n",
        "print(thislist[-4:-1])\n",
        "\n",
        "\n",
        "t = [\"du\", \"ds\", \"qw\"]\n",
        "t[1] = \"bc\"\n",
        "print(t)\n",
        "\n",
        "\n",
        "tl = [\"a\", \"b\", \"c\"]\n",
        "tl[1:3] = [\"w\"]\n",
        "print(tl)\n",
        "\n",
        "tl.insert(2, \"h\")\n",
        "print(tl)\n",
        "\n",
        "tl.append(\"o\")\n",
        "print(tl)\n",
        "\n",
        "tp = [\"m\", \"p\", \"n\"]\n",
        "tl.extend(tp)\n",
        "print(tl)\n",
        "\n",
        "tl.remove(\"m\")\n",
        "print(tl)\n",
        "\n",
        "tl.pop(3)\n",
        "print(tl)\n",
        "\n",
        "del tl[2]\n",
        "print(tl)\n",
        "\n",
        "tl.clear()\n",
        "print(tl)"
      ],
      "metadata": {
        "colab": {
          "base_uri": "https://localhost:8080/"
        },
        "id": "gC7T5YtYoqWf",
        "outputId": "c94d2ca9-1a86-4f32-d9e4-f2a03cac75b9"
      },
      "execution_count": null,
      "outputs": [
        {
          "output_type": "stream",
          "name": "stdout",
          "text": [
            "cherry\n",
            "['c', 'o', 'k']\n",
            "['a', 'b', 'c', 'o']\n",
            "['c', 'o', 'k', 'm', 'm']\n",
            "['o', 'k', 'm']\n",
            "['du', 'bc', 'qw']\n",
            "['a', 'w']\n",
            "['a', 'w', 'h']\n",
            "['a', 'w', 'h', 'o']\n",
            "['a', 'w', 'h', 'o', 'm', 'p', 'n']\n",
            "['a', 'w', 'h', 'o', 'p', 'n']\n",
            "['a', 'w', 'h', 'p', 'n']\n",
            "['a', 'w', 'p', 'n']\n",
            "[]\n"
          ]
        }
      ]
    },
    {
      "cell_type": "code",
      "source": [
        "# for loop in list\n",
        "thislist = [\"a\", \"b\", \"c\"]\n",
        "for x in thislist:\n",
        "  print(x)\n",
        "\n"
      ],
      "metadata": {
        "colab": {
          "base_uri": "https://localhost:8080/"
        },
        "id": "wqvNxRTf6NKJ",
        "outputId": "1aaf6f77-d0a5-4284-a17d-ece5fae7e2d5"
      },
      "execution_count": null,
      "outputs": [
        {
          "output_type": "stream",
          "name": "stdout",
          "text": [
            "a\n",
            "b\n",
            "c\n"
          ]
        }
      ]
    },
    {
      "cell_type": "code",
      "source": [
        "thislist = [\"a\", \"b\", \"c\"]\n",
        "for i in range(len(thislist)):\n",
        "  print(thislist[i])"
      ],
      "metadata": {
        "colab": {
          "base_uri": "https://localhost:8080/"
        },
        "id": "ief4-8_m7rQO",
        "outputId": "5861dfe4-a11e-465f-dd80-ca720f6599e4"
      },
      "execution_count": null,
      "outputs": [
        {
          "output_type": "stream",
          "name": "stdout",
          "text": [
            "a\n",
            "b\n",
            "c\n"
          ]
        }
      ]
    },
    {
      "cell_type": "code",
      "source": [
        "#using while loop\n",
        "thislist = [\"a\", \"b\", \"c\"]\n",
        "i = 0\n",
        "while i < len(thislist):\n",
        "  print(thislist[i])\n",
        "  i = i + 1"
      ],
      "metadata": {
        "colab": {
          "base_uri": "https://localhost:8080/"
        },
        "id": "Kop_5VdY8Fji",
        "outputId": "2c7cf81e-2066-45c2-a668-bd55ef6c2db7"
      },
      "execution_count": null,
      "outputs": [
        {
          "output_type": "stream",
          "name": "stdout",
          "text": [
            "a\n",
            "b\n",
            "c\n"
          ]
        }
      ]
    },
    {
      "cell_type": "code",
      "source": [
        "#list comprehension : List comprehension offers a shorter syntax when you want to create a new list based on the values of an existing list.\n",
        "l = (\"abc\",\"cde\",\"efg\",\"adf\",\"wer\",\"asd\")\n",
        "newlist=[]\n",
        "\n",
        "for x in l:\n",
        "  if \"a\" in x:\n",
        "    newlist.append(x)\n",
        "print (newlist)\n",
        "\n",
        "\n",
        "newlist = [x for x in l if \"a\" in x]\n",
        "\n",
        "print(newlist)"
      ],
      "metadata": {
        "colab": {
          "base_uri": "https://localhost:8080/"
        },
        "id": "dZQjNS7i9o0W",
        "outputId": "92412edd-fa77-4732-9055-35d1121a8814"
      },
      "execution_count": null,
      "outputs": [
        {
          "output_type": "stream",
          "name": "stdout",
          "text": [
            "['abc', 'adf', 'asd']\n",
            "['abc', 'adf', 'asd']\n"
          ]
        }
      ]
    },
    {
      "cell_type": "code",
      "source": [
        "#sorting list\n",
        "thislist = [\"o\", \"m\", \"k\", \"p\", \"b\"]\n",
        "thislist.sort()\n",
        "print(thislist)\n",
        "\n",
        "\n",
        "#sort decending\n",
        "thislist = [\"o\", \"m\", \"k\", \"p\", \"b\"]\n",
        "thislist.sort(reverse = True)\n",
        "print(thislist)\n",
        "\n",
        "#customize sort function\n",
        "def myfunc(n):\n",
        "  return abs(n - 50)\n",
        "\n",
        "thislist = [100, 50, 65, 82, 23]\n",
        "thislist.sort(key = myfunc)\n",
        "print(thislist)\n",
        "\n",
        "\n",
        "#case insentive\n",
        "thislist = [\"b\", \"O\", \"K\", \"c\"]\n",
        "thislist.sort(key = str.lower)\n",
        "print(thislist)\n",
        "\n",
        "#case senstive\n",
        "thislist.sort()\n",
        "print(thislist)\n",
        "\n",
        "#reverse\n",
        "thislist.reverse()\n",
        "print(thislist)\n",
        "\n",
        "#copy a list using list()\n",
        "thislist = [\"a\", \"b\", \"c\"]\n",
        "mylist = thislist.copy()\n",
        "print(mylist)\n",
        "\n",
        "\n",
        "#joining two lists using extend() and maually\n",
        "a=[\"qw\",\"wf\",\"df\"]\n",
        "b=[1,2,3]\n",
        "c=a+b\n",
        "print(c)\n",
        "\n",
        "#joining two lists using extend()\n",
        "a=[\"qw\",\"wf\",\"df\"]\n",
        "b=[1,2,3]\n",
        "a.extend(b)\n",
        "print(a)"
      ],
      "metadata": {
        "colab": {
          "base_uri": "https://localhost:8080/"
        },
        "id": "WT5UL04--hsN",
        "outputId": "4cfa90eb-284b-435f-a6cd-e11a1ec7c7cc"
      },
      "execution_count": null,
      "outputs": [
        {
          "output_type": "stream",
          "name": "stdout",
          "text": [
            "['b', 'k', 'm', 'o', 'p']\n",
            "['p', 'o', 'm', 'k', 'b']\n",
            "[50, 65, 23, 82, 100]\n",
            "['b', 'c', 'K', 'O']\n",
            "['K', 'O', 'b', 'c']\n",
            "['c', 'b', 'O', 'K']\n",
            "['a', 'b', 'c']\n",
            "['qw', 'wf', 'df', 1, 2, 3]\n",
            "['qw', 'wf', 'df', 1, 2, 3]\n"
          ]
        }
      ]
    },
    {
      "cell_type": "markdown",
      "source": [
        "# Tuples"
      ],
      "metadata": {
        "id": "G_WuSmfLf1rR"
      }
    },
    {
      "cell_type": "code",
      "source": [
        "#tuples\n",
        "#Tuples are unchangeable, or immutable\n",
        "#convert the tuple into a list, change the list, and convert the list back into a tuple\n",
        "x = (\"a\", \"b\", \"c\")\n",
        "y = list(x)\n",
        "y[1] = \"k\"\n",
        "x = tuple(y)\n",
        "\n",
        "print(x)\n",
        "\n",
        "\n",
        "y = list(x)\n",
        "y.remove(\"a\")\n",
        "x = tuple(y)\n",
        "\n",
        "print(x)\n",
        "\n",
        "# unpacking tuple\n",
        "fruits = (\"apple\", \"banana\", \"cherry\")\n",
        "\n",
        "(green, yellow, red) = fruits\n",
        "\n",
        "print(green)\n",
        "print(yellow)\n",
        "print(red)\n",
        "\n",
        "\n",
        "\n",
        "fruits = (\"apple\", \"banana\", \"cherry\", \"strawberry\", \"raspberry\")\n",
        "\n",
        "(green, yellow, *red) = fruits\n",
        "\n",
        "print(green)\n",
        "print(yellow)\n",
        "print(red)\n",
        "\n",
        "#multiply tuples\n",
        "fruits = (\"apple\", \"banana\", \"cherry\")\n",
        "mytuple = fruits * 2\n",
        "print(mytuple)\n",
        "\n",
        "\n",
        "## tuples has same properties like lists"
      ],
      "metadata": {
        "colab": {
          "base_uri": "https://localhost:8080/"
        },
        "id": "CJ6zsy_YE0yb",
        "outputId": "2efca55b-a533-4e16-9fb0-603abe5c88db"
      },
      "execution_count": null,
      "outputs": [
        {
          "output_type": "stream",
          "name": "stdout",
          "text": [
            "('a', 'k', 'c')\n",
            "('k', 'c')\n",
            "apple\n",
            "banana\n",
            "cherry\n",
            "apple\n",
            "banana\n",
            "['cherry', 'strawberry', 'raspberry']\n",
            "('apple', 'banana', 'cherry', 'apple', 'banana', 'cherry')\n"
          ]
        }
      ]
    },
    {
      "cell_type": "markdown",
      "source": [
        "# Sets\n"
      ],
      "metadata": {
        "id": "l6rV0yVWf8I0"
      }
    },
    {
      "cell_type": "code",
      "source": [
        "#sets\n",
        "#Set items are unchangeable, but you can remove items and add new items.\n",
        "\n",
        "#access items\n",
        "thisset= {\"a\",\"b\",\"c\"}\n",
        "for x in thisset:\n",
        "  print(x)\n",
        "\n",
        "print(\"b\" in thisset)\n",
        "print(\"b\"  not in thisset)\n",
        "\n",
        "#add set items\n",
        "thisset.add(\"o\")\n",
        "print(thisset)\n",
        "\n",
        "#add any iterable like tuples,list, disctioneries etc to the set\n",
        "\n",
        "mylist = [\"k\", \"o\"]\n",
        "thisset.update(mylist)\n",
        "print(thisset)\n",
        "\n",
        "#remove item:remove() or discard() we can also use pop, clear and del\n",
        "thisset.remove(\"o\")\n",
        "print(thisset)\n",
        "\n",
        "\n",
        "#loop\n",
        "for x in thisset:\n",
        "  print(x)"
      ],
      "metadata": {
        "colab": {
          "base_uri": "https://localhost:8080/"
        },
        "id": "ot78cR-xMo2I",
        "outputId": "d356029d-bc24-4142-f077-48f5fb9980a5"
      },
      "execution_count": null,
      "outputs": [
        {
          "output_type": "stream",
          "name": "stdout",
          "text": [
            "b\n",
            "a\n",
            "c\n",
            "True\n",
            "False\n",
            "{'b', 'a', 'o', 'c'}\n",
            "{'c', 'o', 'k', 'b', 'a'}\n",
            "{'c', 'k', 'b', 'a'}\n",
            "c\n",
            "k\n",
            "b\n",
            "a\n"
          ]
        }
      ]
    },
    {
      "cell_type": "code",
      "source": [
        "#joint sets\n",
        "'''The union() and update() methods joins all items from both sets.\n",
        "\n",
        "The intersection() method keeps ONLY the duplicates.\n",
        "\n",
        "The difference() method keeps the items from the first set that are not in the other set(s).\n",
        "\n",
        "The symmetric_difference() method keeps all items EXCEPT the duplicates.\n",
        "\n",
        "'''\n",
        "set1 = {\"a\", \"b\", \"c\"}\n",
        "set2 = {1, 2, 3}\n",
        "set3 = set1.union(set2)\n",
        "print(set3)\n",
        "\n",
        "set1 = {\"a\", \"b\", \"c\"}\n",
        "set2 = {1, 2, 3}\n",
        "set3 = set1 | set2\n",
        "print(set3)\n",
        "\n",
        "set1 = {\"a\", \"b\", \"c\"}\n",
        "set2 = {1, 2, 3}\n",
        "set3 = {\"John\", \"Elena\"}\n",
        "set4 = {\"apple\", \"bananas\", \"cherry\"}\n",
        "myset = set1.union(set2, set3, set4)\n",
        "print(myset)\n",
        "\n",
        "x = {\"a\", \"b\", \"c\"}#joining set and tuple\n",
        "y = (1, 2, 3)\n",
        "z = x.union(y)\n",
        "print(z)\n",
        "\n",
        "#update: The update() method inserts all items from one set into another.\n",
        "#The update() changes the original set, and does not return a new set.\n",
        "x.update(y)\n",
        "print(x)\n",
        "\n",
        "\n",
        "set1 = {\"a\", \"b\", \"c\"}\n",
        "set2 = {\"g\", \"m\", \"a\"}\n",
        "set3 = set1.intersection(set2)\n",
        "print(set3)\n",
        "\n",
        "# & operator is also used for intersection\n",
        "set3 = set1 & set2\n",
        "print(set3)\n",
        "\n",
        "set3 = set1.difference(set2)\n",
        "print(set3)\n",
        "\n",
        "set3 = set1.symmetric_difference(set2)\n",
        "print(set3)\n"
      ],
      "metadata": {
        "colab": {
          "base_uri": "https://localhost:8080/"
        },
        "id": "F0Thb-ESVfHA",
        "outputId": "8d4aef7d-3070-4017-eaaa-2c472cec9155"
      },
      "execution_count": null,
      "outputs": [
        {
          "output_type": "stream",
          "name": "stdout",
          "text": [
            "{1, 2, 3, 'b', 'a', 'c'}\n",
            "{1, 2, 3, 'b', 'a', 'c'}\n",
            "{1, 2, 3, 'apple', 'bananas', 'c', 'Elena', 'b', 'a', 'cherry', 'John'}\n",
            "{1, 2, 3, 'c', 'b', 'a'}\n",
            "{1, 2, 3, 'c', 'b', 'a'}\n",
            "{'a'}\n",
            "{'a'}\n",
            "{'b', 'c'}\n",
            "{'c', 'm', 'b', 'g'}\n"
          ]
        }
      ]
    },
    {
      "cell_type": "markdown",
      "source": [
        "# Dictionery"
      ],
      "metadata": {
        "id": "qjaR28wkgAkI"
      }
    },
    {
      "cell_type": "code",
      "source": [
        "#dictioneries\n",
        "#A dictionary is a collection which is ordered, changeable and do not allow duplicates\n",
        "thisdict = {\"brand\": \"Ford\",\"model\": \"Mustang\",\"year\": 1964}\n",
        "print(thisdict)\n",
        "\n",
        "x= thisdict.get(\"model\")\n",
        "print(x)\n",
        "\n",
        "y = thisdict.keys()\n",
        "print(y) #before the change\n",
        "thisdict[\"color\"] = \"white\"\n",
        "print(y) #after the change\n",
        "\n",
        "\n",
        "#changing values in a dictionery\n",
        "thisdict[\"year\"] = 2018\n",
        "print(thisdict)\n",
        "\n",
        "#we can remove items by pop and del and clear\n",
        "thisdict.pop(\"model\")\n",
        "print(thisdict)\n",
        "\n",
        "\n",
        "#nested dictioneries\n",
        "child1 = {\n",
        "  \"name\" : \"Emil\",\n",
        "  \"year\" : 2004\n",
        "}\n",
        "child2 = {\n",
        "  \"name\" : \"Tobias\",\n",
        "  \"year\" : 2007\n",
        "}\n",
        "child3 = {\n",
        "  \"name\" : \"Linus\",\n",
        "  \"year\" : 2011\n",
        "}\n",
        "\n",
        "myfamily = {\n",
        "  \"child1\" : child1,\n",
        "  \"child2\" : child2,\n",
        "  \"child3\" : child3\n",
        "}\n",
        "print(myfamily)"
      ],
      "metadata": {
        "colab": {
          "base_uri": "https://localhost:8080/"
        },
        "id": "XnYFCqjzfXFZ",
        "outputId": "844b604d-6179-47d2-d0b7-17f922c2c538"
      },
      "execution_count": null,
      "outputs": [
        {
          "output_type": "stream",
          "name": "stdout",
          "text": [
            "{'brand': 'Ford', 'model': 'Mustang', 'year': 1964}\n",
            "Mustang\n",
            "dict_keys(['brand', 'model', 'year'])\n",
            "dict_keys(['brand', 'model', 'year', 'color'])\n",
            "{'brand': 'Ford', 'model': 'Mustang', 'year': 2018, 'color': 'white'}\n",
            "{'brand': 'Ford', 'year': 2018, 'color': 'white'}\n",
            "{'child1': {'name': 'Emil', 'year': 2004}, 'child2': {'name': 'Tobias', 'year': 2007}, 'child3': {'name': 'Linus', 'year': 2011}}\n"
          ]
        }
      ]
    }
  ]
}