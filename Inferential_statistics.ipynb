{
  "nbformat": 4,
  "nbformat_minor": 0,
  "metadata": {
    "colab": {
      "provenance": [],
      "toc_visible": true
    },
    "kernelspec": {
      "name": "python3",
      "display_name": "Python 3"
    },
    "language_info": {
      "name": "python"
    }
  },
  "cells": [
    {
      "cell_type": "markdown",
      "source": [
        "# Hypothesis Testing"
      ],
      "metadata": {
        "id": "SMrfS9AHxQNm"
      }
    },
    {
      "cell_type": "code",
      "execution_count": null,
      "metadata": {
        "colab": {
          "base_uri": "https://localhost:8080/"
        },
        "id": "fWto-aKWxKA1",
        "outputId": "0f026f9c-a582-4477-b07c-df98884a15fd"
      },
      "outputs": [
        {
          "output_type": "stream",
          "name": "stdout",
          "text": [
            "T-statistic (from scipy): -9.0\n",
            "P-value (from scipy): 8.538051223166285e-06\n",
            "T-statistic (calculated manually): -9.0\n",
            "Decision: Reject the null hypothesis at alpha=0.05.\n",
            "Conclusion: There is statistically significant evidence that the average blood pressure before and after treatment with the new drug is different.\n"
          ]
        }
      ],
      "source": [
        "import numpy as np\n",
        "from scipy import stats\n",
        "\n",
        "# Data\n",
        "before_treatment = np.array([120, 122, 118, 130, 125, 128, 115, 121, 123, 119])\n",
        "after_treatment = np.array([115, 120, 112, 128, 122, 125, 110, 117, 119, 114])\n",
        "\n",
        "# Step 1: Null and Alternate Hypotheses\n",
        "# Null Hypothesis: The new drug has no effect on blood pressure.\n",
        "# Alternate Hypothesis: The new drug has an effect on blood pressure.\n",
        "null_hypothesis = \"The new drug has no effect on blood pressure.\"\n",
        "alternate_hypothesis = \"The new drug has an effect on blood pressure.\"\n",
        "\n",
        "# Step 2: Significance Level\n",
        "alpha = 0.05\n",
        "\n",
        "# Step 3: Paired T-test\n",
        "t_statistic, p_value = stats.ttest_rel(after_treatment, before_treatment)\n",
        "\n",
        "# Step 4: Calculate T-statistic manually\n",
        "m = np.mean(after_treatment - before_treatment)\n",
        "s = np.std(after_treatment - before_treatment, ddof=1)  # using ddof=1 for sample standard deviation\n",
        "n = len(before_treatment)\n",
        "t_statistic_manual = m / (s / np.sqrt(n))\n",
        "\n",
        "# Step 5: Decision\n",
        "if p_value <= alpha:\n",
        "    decision = \"Reject\"\n",
        "else:\n",
        "    decision = \"Fail to reject\"\n",
        "\n",
        "# Conclusion\n",
        "if decision == \"Reject\":\n",
        "    conclusion = \"There is statistically significant evidence that the average blood pressure before and after treatment with the new drug is different.\"\n",
        "else:\n",
        "    conclusion = \"There is insufficient evidence to claim a significant difference in average blood pressure before and after treatment with the new drug.\"\n",
        "\n",
        "# Display results\n",
        "print(\"T-statistic (from scipy):\", t_statistic)\n",
        "print(\"P-value (from scipy):\", p_value)\n",
        "print(\"T-statistic (calculated manually):\", t_statistic_manual)\n",
        "print(f\"Decision: {decision} the null hypothesis at alpha={alpha}.\")\n",
        "print(\"Conclusion:\", conclusion)\n"
      ]
    },
    {
      "cell_type": "code",
      "source": [
        "import scipy.stats as stats\n",
        "import math\n",
        "import numpy as np\n",
        "\n",
        "# Given data\n",
        "sample_data = np.array(\n",
        "    [205, 198, 210, 190, 215, 205, 200, 192, 198, 205, 198, 202, 208, 200, 205, 198, 205, 210, 192, 205, 198, 205, 210, 192, 205])\n",
        "population_std_dev = 5\n",
        "population_mean = 200\n",
        "sample_size = len(sample_data)\n",
        "\n",
        "# Step 1: Define the Hypotheses\n",
        "# Null Hypothesis (H0): The average cholesterol level in a population is 200 mg/dL.\n",
        "# Alternate Hypothesis (H1): The average cholesterol level in a population is different from 200 mg/dL.\n",
        "\n",
        "# Step 2: Define the Significance Level\n",
        "alpha = 0.05  # Two-tailed test\n",
        "\n",
        "# Critical values for a significance level of 0.05 (two-tailed)\n",
        "critical_value_left = stats.norm.ppf(alpha/2)\n",
        "critical_value_right = -critical_value_left\n",
        "\n",
        "# Step 3: Compute the test statistic\n",
        "sample_mean = sample_data.mean()\n",
        "z_score = (sample_mean - population_mean) / \\\n",
        "    (population_std_dev / math.sqrt(sample_size))\n",
        "\n",
        "# Step 4: Result\n",
        "# Check if the absolute value of the test statistic is greater than the critical values\n",
        "if abs(z_score) > max(abs(critical_value_left), abs(critical_value_right)):\n",
        "    print(\"Reject the null hypothesis.\")\n",
        "    print(\"There is statistically significant evidence that the average cholesterol level in the population is different from 200 mg/dL.\")\n",
        "else:\n",
        "    print(\"Fail to reject the null hypothesis.\")\n",
        "    print(\"There is not enough evidence to conclude that the average cholesterol level in the population is different from 200 mg/dL.\")\n"
      ],
      "metadata": {
        "colab": {
          "base_uri": "https://localhost:8080/"
        },
        "id": "Ic8wnQNfxz6j",
        "outputId": "98691e23-6d66-4e60-aa87-6a822398127f"
      },
      "execution_count": null,
      "outputs": [
        {
          "output_type": "stream",
          "name": "stdout",
          "text": [
            "Reject the null hypothesis.\n",
            "There is statistically significant evidence that the average cholesterol level in the population is different from 200 mg/dL.\n"
          ]
        }
      ]
    },
    {
      "cell_type": "markdown",
      "source": [
        "Z test"
      ],
      "metadata": {
        "id": "iNIV74E6113m"
      }
    },
    {
      "cell_type": "code",
      "source": [
        "# Import the necessary libraries\n",
        "import numpy as np\n",
        "import scipy.stats as stats\n",
        "\n",
        "# Given information\n",
        "sample_mean = 110\n",
        "population_mean = 100\n",
        "population_std = 15\n",
        "sample_size = 50\n",
        "alpha = 0.05\n",
        "\n",
        "# compute the z-score\n",
        "z_score = (sample_mean-population_mean)/(population_std/np.sqrt(50))\n",
        "print('Z-Score :',z_score)\n",
        "\n",
        "# Approach 1: Using Critical Z-Score\n",
        "\n",
        "# Critical Z-Score\n",
        "z_critical = stats.norm.ppf(1-alpha)\n",
        "print('Critical Z-Score :',z_critical)\n",
        "\n",
        "# Hypothesis\n",
        "if z_score >  z_critical:\n",
        "    print(\"Reject Null Hypothesis\")\n",
        "else:\n",
        "  print(\"Fail to Reject Null Hypothesis\")\n",
        "\n",
        "# Approach 2: Using P-value\n",
        "\n",
        "# P-Value : Probability of getting less than a Z-score\n",
        "p_value = 1-stats.norm.cdf(z_score)\n",
        "\n",
        "print('p-value :',p_value)\n",
        "\n",
        "# Hypothesis\n",
        "if p_value <  alpha:\n",
        "    print(\"Reject Null Hypothesis\")\n",
        "else:\n",
        "  print(\"Fail to Reject Null Hypothesis\")\n"
      ],
      "metadata": {
        "colab": {
          "base_uri": "https://localhost:8080/"
        },
        "id": "ahIouWb516RB",
        "outputId": "65ba6d51-0e9d-4662-ac3c-dcbb919c18cc"
      },
      "execution_count": null,
      "outputs": [
        {
          "output_type": "stream",
          "name": "stdout",
          "text": [
            "Z-Score : 4.714045207910317\n",
            "Critical Z-Score : 1.6448536269514722\n",
            "Reject Null Hypothesis\n",
            "p-value : 1.2142337364462463e-06\n",
            "Reject Null Hypothesis\n"
          ]
        }
      ]
    },
    {
      "cell_type": "markdown",
      "source": [
        "T test\n"
      ],
      "metadata": {
        "id": "LMG5O6XC24T0"
      }
    },
    {
      "cell_type": "code",
      "source": [
        "import scipy.stats as stats\n",
        "import numpy as np\n",
        "\n",
        "# Define the population mean weight\n",
        "population_mean = 45\n",
        "\n",
        "# Define the sample mean weight and standard deviation\n",
        "sample_mean = 75\n",
        "sample_std = 25\n",
        "\n",
        "# Define the sample size\n",
        "sample_size = 25\n",
        "\n",
        "# Calculate the t-statistic\n",
        "t_statistic = (sample_mean - population_mean) / (sample_std / np.sqrt(sample_size))\n",
        "\n",
        "# Define the degrees of freedom\n",
        "df = sample_size - 1\n",
        "\n",
        "# Set the significance level (alpha)\n",
        "alpha = 0.05\n",
        "\n",
        "# Calculate the critical t-value\n",
        "critical_t = stats.t.ppf(1 - alpha, df)\n",
        "\n",
        "# Calculate the p-value\n",
        "p_value = 1 - stats.t.cdf(t_statistic, df)\n",
        "\n",
        "# Print the results\n",
        "print(\"T-Statistic:\", t_statistic)\n",
        "print(\"Critical t-value:\", critical_t)\n",
        "print(\"P-Value:\", p_value)\n",
        "\n",
        "# Decision\n",
        "print('With T-value :')\n",
        "if t_statistic > critical_t:\n",
        "    print(\"\"\"There is a significant difference in weight before and after the camp.\n",
        "    The fitness camp had an effect.\"\"\")\n",
        "else:\n",
        "    print(\"\"\"There is no significant difference in weight before and after the camp.\n",
        "    The fitness camp did not have a significant effect.\"\"\")\n",
        "\n",
        "print('With P-value :')\n",
        "if p_value >alpha:\n",
        "    print(\"\"\"There is a significant difference in weight before and after the camp.\n",
        "    The fitness camp had an effect.\"\"\")\n",
        "else:\n",
        "    print(\"\"\"There is no significant difference in weight before and after the camp.\n",
        "    The fitness camp did not have a significant effect.\"\"\")\n"
      ],
      "metadata": {
        "colab": {
          "base_uri": "https://localhost:8080/"
        },
        "id": "7-fE8UBi2ypi",
        "outputId": "98fdfff3-b7d7-4f01-e00b-7661c7e0914c"
      },
      "execution_count": null,
      "outputs": [
        {
          "output_type": "stream",
          "name": "stdout",
          "text": [
            "T-Statistic: 6.0\n",
            "Critical t-value: 1.7108820799094275\n",
            "P-Value: 1.703654035845048e-06\n",
            "With T-value :\n",
            "There is a significant difference in weight before and after the camp. \n",
            "    The fitness camp had an effect.\n",
            "With P-value :\n",
            "There is no significant difference in weight before and after the camp. \n",
            "    The fitness camp did not have a significant effect.\n"
          ]
        }
      ]
    },
    {
      "cell_type": "markdown",
      "source": [
        "# Confidence interval\n"
      ],
      "metadata": {
        "id": "_dHKyiFZ__Be"
      }
    },
    {
      "cell_type": "code",
      "source": [
        "import scipy.stats as stats\n",
        "import maths\n",
        "\n",
        "# Given values\n",
        "sample_mean = 240\n",
        "sample_std_dev = 25\n",
        "sample_size = 10\n",
        "confidence_level = 0.95\n",
        "\n",
        "# DF\n",
        "df = sample_size - 1\n",
        "\n",
        "# Significance level (α)\n",
        "alpha = (1 - confidence_level) / 2\n",
        "\n",
        "# t-value from the t-distribution table\n",
        "t_value = stats.t.ppf(1 - alpha, df)\n",
        "\n",
        "margin_of_error = t_value * (sample_std_dev / math.sqrt(sample_size))\n",
        "\n",
        "lower_limit = sample_mean - margin_of_error\n",
        "upper_limit = sample_mean + margin_of_error\n",
        "\n",
        "print(f\"Confidence Interval: ({lower_limit}, {upper_limit})\")\n"
      ],
      "metadata": {
        "colab": {
          "base_uri": "https://localhost:8080/"
        },
        "id": "5hAuPPqJADXR",
        "outputId": "c913faef-c9ac-47a9-cdaf-f437da9b84e1"
      },
      "execution_count": null,
      "outputs": [
        {
          "output_type": "stream",
          "name": "stdout",
          "text": [
            "Confidence Interval: (222.1160773502915, 257.8839226497085)\n"
          ]
        }
      ]
    }
  ]
}