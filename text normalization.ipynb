{
 "cells": [
  {
   "cell_type": "code",
   "execution_count": 1,
   "id": "7e6fefd4",
   "metadata": {},
   "outputs": [],
   "source": [
    "import re\n",
    "import string\n",
    "import unidecode\n",
    "from nltk.tokenize import sent_tokenize\n",
    "from nltk.tokenize import word_tokenize\n",
    "from nltk.stem import WordNetLemmatizer\n",
    "from nltk.stem.porter import PorterStemmer\n",
    "from nltk.corpus import stopwords\n",
    "import gensim.downloader as api\n",
    "from pycontractions import Contractions\n",
    "from word2number import w2n\n"
   ]
  },
  {
   "cell_type": "code",
   "execution_count": 2,
   "id": "2db11f44",
   "metadata": {},
   "outputs": [],
   "source": [
    "text = \"“Everything we’re doing is about going forward,” Phoebe Philo told Vogue in 2009, shortly before showing her debut Resort collection for Céline. Although the label had garnered headlines when it was revived by Michael Kors in the late ’90s, it was Philo who truly brought the till then somewhat somnambulant luxury house to the forefront. Critics credited her with pushing fashion in a new direction, toward a more spare, stripped-down kind of sophistication. What Céline now offered women was, as the magazine put it, “a grown-up and hip way to put themselves together.”\""
   ]
  },
  {
   "cell_type": "markdown",
   "id": "dc429e86",
   "metadata": {},
   "source": [
    "# tokenization:Tokenization means splitting up strings of text into smaller pieces."
   ]
  },
  {
   "cell_type": "code",
   "execution_count": 3,
   "id": "fd42593b",
   "metadata": {},
   "outputs": [
    {
     "name": "stdout",
     "output_type": "stream",
     "text": [
      "['“Everything we’re doing is about going forward,” Phoebe Philo told Vogue in 2009, shortly before showing her debut Resort collection for Céline.', 'Although the label had garnered headlines when it was revived by Michael Kors in the late ’90s, it was Philo who truly brought the till then somewhat somnambulant luxury house to the forefront.', 'Critics credited her with pushing fashion in a new direction, toward a more spare, stripped-down kind of sophistication.', 'What Céline now offered women was, as the magazine put it, “a grown-up and hip way to put themselves together.”']\n"
     ]
    }
   ],
   "source": [
    "#NLTK has a sentence tokenizer, as well as a word tokenizer.\n",
    "#First let's look at the sentence tokenizer.\n",
    "#the sentence tokenizer will split a paragraph into sentences.\n",
    "sentences = sent_tokenize(text)\n",
    "print(sentences)\n"
   ]
  },
  {
   "cell_type": "code",
   "execution_count": 4,
   "id": "2ba6f34d",
   "metadata": {},
   "outputs": [
    {
     "name": "stdout",
     "output_type": "stream",
     "text": [
      "['“', 'Everything', 'we', '’', 're', 'doing', 'is', 'about', 'going', 'forward', ',', '”', 'Phoebe', 'Philo', 'told', 'Vogue', 'in', '2009', ',', 'shortly', 'before', 'showing', 'her', 'debut', 'Resort', 'collection', 'for', 'Céline', '.']\n"
     ]
    }
   ],
   "source": [
    "# use the word tokenizer to split the first sentence into word tokens.\n",
    "test_sentence = sentences[0]\n",
    "words = word_tokenize(test_sentence)\n",
    "print(words)"
   ]
  },
  {
   "cell_type": "code",
   "execution_count": 6,
   "id": "845d3641",
   "metadata": {},
   "outputs": [
    {
     "name": "stdout",
     "output_type": "stream",
     "text": [
      "['“Everything', 'we’re', 'doing', 'is', 'about', 'going', 'forward,”', 'Phoebe', 'Philo', 'told', 'Vogue', 'in', '2009,', 'shortly', 'before', 'showing', 'her', 'debut', 'Resort', 'collection', 'for', 'Céline.']\n"
     ]
    }
   ],
   "source": [
    "#split() operation to split up a string of text into words.\n",
    "words= test_sentence.split()\n",
    "print(words)\n",
    "#Using split(), the string is broken up in words based on whitespace, and the punctuation is grouped in with the words instead of broken up as its own token."
   ]
  },
  {
   "cell_type": "markdown",
   "id": "d84d5e9e",
   "metadata": {},
   "source": [
    "# removing stopwords"
   ]
  },
  {
   "cell_type": "code",
   "execution_count": 8,
   "id": "db4f2b5c",
   "metadata": {},
   "outputs": [
    {
     "name": "stdout",
     "output_type": "stream",
     "text": [
      "['“', 'Everything', '’', 'going', 'forward', ',', '”', 'Phoebe', 'Philo', 'told', 'Vogue', '2009', ',', 'shortly', 'showing', 'debut', 'Resort', 'collection', 'Céline', '.']\n"
     ]
    },
    {
     "name": "stderr",
     "output_type": "stream",
     "text": [
      "[nltk_data] Downloading package stopwords to\n",
      "[nltk_data]     /Users/madhumithaganji/nltk_data...\n",
      "[nltk_data]   Unzipping corpora/stopwords.zip.\n"
     ]
    }
   ],
   "source": [
    "import nltk\n",
    "nltk.download('stopwords')\n",
    "\n",
    "\n",
    "stop_words = set(stopwords.words('english'))\n",
    "filtered = [word for word in word_tokenize(test_sentence) if word not in stop_words]\n",
    "print(filtered)\n"
   ]
  },
  {
   "cell_type": "markdown",
   "id": "ae0285d0",
   "metadata": {},
   "source": [
    "# removing whitespace"
   ]
  },
  {
   "cell_type": "code",
   "execution_count": 9,
   "id": "0c9a938c",
   "metadata": {},
   "outputs": [
    {
     "name": "stdout",
     "output_type": "stream",
     "text": [
      "“Everything we’re doing is about going forward,” Phoebe Philo told Vogue in 2009, shortly before showing her debut Resort collection for Céline.\n"
     ]
    }
   ],
   "source": [
    "#strip() method on strings in Python to remove leading and trailing whitespace.\n",
    "#raw text data can look pretty awful in the middle as well.\n",
    "#One way to remove the extra whitespaces is with a regular expression to replace any group of more than one space in the text string with a single space.\n",
    "test_sentence = re.sub(' +',' ', test_sentence)\n",
    "print(test_sentence)"
   ]
  },
  {
   "cell_type": "markdown",
   "id": "7c5ef058",
   "metadata": {},
   "source": [
    "# converting to lowercase"
   ]
  },
  {
   "cell_type": "code",
   "execution_count": 10,
   "id": "828b936c",
   "metadata": {},
   "outputs": [
    {
     "name": "stdout",
     "output_type": "stream",
     "text": [
      "“everything we’re doing is about going forward,” phoebe philo told vogue in 2009, shortly before showing her debut resort collection for céline.\n"
     ]
    }
   ],
   "source": [
    "test_sentence = test_sentence.lower()\n",
    "print(test_sentence)"
   ]
  },
  {
   "cell_type": "markdown",
   "id": "13da3885",
   "metadata": {},
   "source": [
    "# expanding contractions"
   ]
  },
  {
   "cell_type": "code",
   "execution_count": 21,
   "id": "01533a12",
   "metadata": {},
   "outputs": [
    {
     "name": "stdout",
     "output_type": "stream",
     "text": [
      "“everything we are doing is about going forward,” phoebe philo told vogue in 2009, shortly before showing her debut resort collection for céline.\n"
     ]
    }
   ],
   "source": [
    "pattern = r'we[\\’\\']re'\n",
    "replacement = 'we are'\n",
    "test_sentence = re.sub(pattern,replacement,test_sentence)\n",
    "print(test_sentence)"
   ]
  },
  {
   "cell_type": "markdown",
   "id": "4273e361",
   "metadata": {},
   "source": [
    "# removing punctuation"
   ]
  },
  {
   "cell_type": "code",
   "execution_count": 22,
   "id": "6feb1c02",
   "metadata": {},
   "outputs": [
    {
     "name": "stdout",
     "output_type": "stream",
     "text": [
      "“everything we are doing is about going forward” phoebe philo told vogue in 2009 shortly before showing her debut resort collection for céline\n"
     ]
    }
   ],
   "source": [
    "#Removing punctuation can be done with the built-in string module in Python.\n",
    "\n",
    "punctuation_table = str.maketrans('','',string.punctuation)\n",
    "test_sentence = test_sentence.translate(punctuation_table)\n",
    "print(test_sentence)\n"
   ]
  },
  {
   "cell_type": "code",
   "execution_count": 23,
   "id": "f1f63802",
   "metadata": {},
   "outputs": [
    {
     "data": {
      "text/plain": [
       "'!\"#$%&\\'()*+,-./:;<=>?@[\\\\]^_`{|}~'"
      ]
     },
     "execution_count": 23,
     "metadata": {},
     "output_type": "execute_result"
    }
   ],
   "source": [
    "string.punctuation"
   ]
  },
  {
   "cell_type": "markdown",
   "id": "ec362d20",
   "metadata": {},
   "source": [
    "# Accented characters and other unicode issues"
   ]
  },
  {
   "cell_type": "code",
   "execution_count": 24,
   "id": "f5659483",
   "metadata": {},
   "outputs": [
    {
     "data": {
      "text/plain": [
       "False"
      ]
     },
     "execution_count": 24,
     "metadata": {},
     "output_type": "execute_result"
    }
   ],
   "source": [
    "#Removing accents helps to normalize the words in your text data.\n",
    "#Céline and Celine would be considered separate tokens\n",
    "'\"' in test_sentence"
   ]
  },
  {
   "cell_type": "code",
   "execution_count": 26,
   "id": "a57514cd",
   "metadata": {},
   "outputs": [
    {
     "name": "stdout",
     "output_type": "stream",
     "text": [
      "\"everything we are doing is about going forward\" phoebe philo told vogue in 2009 shortly before showing her debut resort collection for celine\n"
     ]
    }
   ],
   "source": [
    "#We can strip all of these unicode characters from the sentence with the unidecode module.\n",
    "test_sentence = unidecode.unidecode(test_sentence)\n",
    "print(test_sentence)\n"
   ]
  },
  {
   "cell_type": "code",
   "execution_count": 27,
   "id": "165dbac5",
   "metadata": {},
   "outputs": [
    {
     "data": {
      "text/plain": [
       "True"
      ]
     },
     "execution_count": 27,
     "metadata": {},
     "output_type": "execute_result"
    }
   ],
   "source": [
    "#check for quotation marks\n",
    "'\"' in test_sentence"
   ]
  },
  {
   "cell_type": "markdown",
   "id": "a4764b07",
   "metadata": {},
   "source": [
    "# convert number words into numeric"
   ]
  },
  {
   "cell_type": "code",
   "execution_count": 28,
   "id": "de39b288",
   "metadata": {},
   "outputs": [
    {
     "name": "stdout",
     "output_type": "stream",
     "text": [
      "525600\n"
     ]
    }
   ],
   "source": [
    "text = \"five hundred twenty five thousand six hundred\"\n",
    "print(w2n.word_to_num(text))\n"
   ]
  },
  {
   "cell_type": "markdown",
   "id": "a8956ab4",
   "metadata": {},
   "source": [
    "# lemmatization"
   ]
  },
  {
   "cell_type": "code",
   "execution_count": 30,
   "id": "cec02f4d",
   "metadata": {},
   "outputs": [
    {
     "name": "stdout",
     "output_type": "stream",
     "text": [
      "dress\n"
     ]
    }
   ],
   "source": [
    "#Lemmatization converts a word to its base form, removing grammatical inflection.\n",
    "from nltk.stem import WordNetLemmatizer\n",
    "\n",
    "lemmatizer = WordNetLemmatizer()\n",
    "d = lemmatizer.lemmatize('dresses')\n",
    "print(d)\n",
    "\n"
   ]
  },
  {
   "cell_type": "code",
   "execution_count": 31,
   "id": "50cb2453",
   "metadata": {},
   "outputs": [
    {
     "name": "stdout",
     "output_type": "stream",
     "text": [
      "dress\n"
     ]
    }
   ],
   "source": [
    "#Stemming is similar to lemmatization, but it mainly chops off a prefix or suffix, while the lemmatizer takes into account parts of speech and is more sophisticated in determining the base form of a word\n",
    "stemmer = PorterStemmer()\n",
    "d = stemmer.stem('dresses')\n",
    "print(d)"
   ]
  },
  {
   "cell_type": "code",
   "execution_count": 32,
   "id": "188e9800",
   "metadata": {},
   "outputs": [
    {
     "name": "stdout",
     "output_type": "stream",
     "text": [
      "good\n",
      "better\n"
     ]
    }
   ],
   "source": [
    "better_lemmatized = lemmatizer.lemmatize('better', pos='a')\n",
    "better_stemmed = stemmer.stem('better')\n",
    "\n",
    "print(better_lemmatized)\n",
    "\n",
    "\n",
    "print(better_stemmed)\n"
   ]
  }
 ],
 "metadata": {
  "kernelspec": {
   "display_name": "Python 3 (ipykernel)",
   "language": "python",
   "name": "python3"
  },
  "language_info": {
   "codemirror_mode": {
    "name": "ipython",
    "version": 3
   },
   "file_extension": ".py",
   "mimetype": "text/x-python",
   "name": "python",
   "nbconvert_exporter": "python",
   "pygments_lexer": "ipython3",
   "version": "3.10.3"
  }
 },
 "nbformat": 4,
 "nbformat_minor": 5
}
